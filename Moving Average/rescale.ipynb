{
 "cells": [
  {
   "cell_type": "code",
   "execution_count": 1,
   "metadata": {},
   "outputs": [],
   "source": [
    "import pandas as pd\n",
    "from tqdm.auto import tqdm\n",
    "tqdm.pandas()"
   ]
  },
  {
   "cell_type": "code",
   "execution_count": 5,
   "metadata": {},
   "outputs": [
    {
     "name": "stderr",
     "output_type": "stream",
     "text": [
      "100%|██████████| 31/31 [00:00<00:00, 35.27it/s]\n"
     ]
    }
   ],
   "source": [
    "month = 12\n",
    "day = 31\n",
    "\n",
    "for i in tqdm(range(1,day+1)):\n",
    "    df = pd.read_json(f\"../assets/Result/newmm/2021_{month:02}_{i:02}.json\", encoding=\"utf8\")\n",
    "    df.rename(columns = {'match': 'frequency'}, inplace = True)\n",
    "    freq = [round(x*1000/df[\"total_match\"].iloc[0], 3) for x in df[\"frequency\"]]\n",
    "    df[\"frequency\"] = freq\n",
    "    df.to_json(f\"../assets/Result/Rescale/Input/2021_{month:02}_{i:02}.json\", orient=\"records\")"
   ]
  }
 ],
 "metadata": {
  "interpreter": {
   "hash": "9b833f1e4f021473f62404b7497febf2fdc64d18b8d37f5c6d34ab956000baa3"
  },
  "kernelspec": {
   "display_name": "Python 3.8.5 64-bit ('project-infoquest': venv)",
   "language": "python",
   "name": "python3"
  },
  "language_info": {
   "codemirror_mode": {
    "name": "ipython",
    "version": 3
   },
   "file_extension": ".py",
   "mimetype": "text/x-python",
   "name": "python",
   "nbconvert_exporter": "python",
   "pygments_lexer": "ipython3",
   "version": "3.8.5"
  },
  "orig_nbformat": 4
 },
 "nbformat": 4,
 "nbformat_minor": 2
}
