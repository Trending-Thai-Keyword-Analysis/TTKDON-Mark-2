{
 "cells": [
  {
   "cell_type": "code",
   "execution_count": 1,
   "metadata": {},
   "outputs": [],
   "source": [
    "import pandas as pd"
   ]
  },
  {
   "cell_type": "code",
   "execution_count": 15,
   "metadata": {},
   "outputs": [
    {
     "data": {
      "text/html": [
       "<div>\n",
       "<style scoped>\n",
       "    .dataframe tbody tr th:only-of-type {\n",
       "        vertical-align: middle;\n",
       "    }\n",
       "\n",
       "    .dataframe tbody tr th {\n",
       "        vertical-align: top;\n",
       "    }\n",
       "\n",
       "    .dataframe thead th {\n",
       "        text-align: right;\n",
       "    }\n",
       "</style>\n",
       "<table border=\"1\" class=\"dataframe\">\n",
       "  <thead>\n",
       "    <tr style=\"text-align: right;\">\n",
       "      <th></th>\n",
       "      <th>LCS</th>\n",
       "      <th>match</th>\n",
       "      <th>total_match</th>\n",
       "    </tr>\n",
       "  </thead>\n",
       "  <tbody>\n",
       "    <tr>\n",
       "      <th>0</th>\n",
       "      <td>B.529แอฟริกาใต้</td>\n",
       "      <td>58</td>\n",
       "      <td>588</td>\n",
       "    </tr>\n",
       "    <tr>\n",
       "      <th>1</th>\n",
       "      <td>สายพันธุ์B.529</td>\n",
       "      <td>46</td>\n",
       "      <td>588</td>\n",
       "    </tr>\n",
       "    <tr>\n",
       "      <th>2</th>\n",
       "      <td>ถกสายพันธุ์B.529แอฟริกาใต้</td>\n",
       "      <td>34</td>\n",
       "      <td>588</td>\n",
       "    </tr>\n",
       "    <tr>\n",
       "      <th>3</th>\n",
       "      <td>นายเทวินทร์มีทรัพย์อุทยานแห่งชาติเขาแหลม</td>\n",
       "      <td>19</td>\n",
       "      <td>588</td>\n",
       "    </tr>\n",
       "    <tr>\n",
       "      <th>4</th>\n",
       "      <td>CREDITPHOTOprotected</td>\n",
       "      <td>15</td>\n",
       "      <td>588</td>\n",
       "    </tr>\n",
       "    <tr>\n",
       "      <th>5</th>\n",
       "      <td>ผับบาร์คาราโอเกะ</td>\n",
       "      <td>10</td>\n",
       "      <td>588</td>\n",
       "    </tr>\n",
       "    <tr>\n",
       "      <th>6</th>\n",
       "      <td>ทวีปแอฟริกาแอฟริกาใต้นามิเบีย</td>\n",
       "      <td>9</td>\n",
       "      <td>588</td>\n",
       "    </tr>\n",
       "    <tr>\n",
       "      <th>7</th>\n",
       "      <td>ถกสายพันธุ์B.529</td>\n",
       "      <td>9</td>\n",
       "      <td>588</td>\n",
       "    </tr>\n",
       "    <tr>\n",
       "      <th>8</th>\n",
       "      <td>สายพันธุ์B.529แอฟริกาใต้</td>\n",
       "      <td>9</td>\n",
       "      <td>588</td>\n",
       "    </tr>\n",
       "    <tr>\n",
       "      <th>9</th>\n",
       "      <td>เวียร์ ศุกลวัฒน์เบลล่าราณี</td>\n",
       "      <td>8</td>\n",
       "      <td>588</td>\n",
       "    </tr>\n",
       "  </tbody>\n",
       "</table>\n",
       "</div>"
      ],
      "text/plain": [
       "                                        LCS  match  total_match\n",
       "0                           B.529แอฟริกาใต้     58          588\n",
       "1                            สายพันธุ์B.529     46          588\n",
       "2                ถกสายพันธุ์B.529แอฟริกาใต้     34          588\n",
       "3  นายเทวินทร์มีทรัพย์อุทยานแห่งชาติเขาแหลม     19          588\n",
       "4                      CREDITPHOTOprotected     15          588\n",
       "5                          ผับบาร์คาราโอเกะ     10          588\n",
       "6             ทวีปแอฟริกาแอฟริกาใต้นามิเบีย      9          588\n",
       "7                          ถกสายพันธุ์B.529      9          588\n",
       "8                  สายพันธุ์B.529แอฟริกาใต้      9          588\n",
       "9                เวียร์ ศุกลวัฒน์เบลล่าราณี      8          588"
      ]
     },
     "execution_count": 15,
     "metadata": {},
     "output_type": "execute_result"
    }
   ],
   "source": [
    "df = pd.read_csv(r\"E:\\work\\virtualenv\\project-infoquest\\TTKDON-Mark-2\\assets\\Result\\attacut\\2021_11_26.csv\")\n",
    "df[:10]"
   ]
  }
 ],
 "metadata": {
  "interpreter": {
   "hash": "9b833f1e4f021473f62404b7497febf2fdc64d18b8d37f5c6d34ab956000baa3"
  },
  "kernelspec": {
   "display_name": "Python 3.8.5 64-bit ('project-infoquest': venv)",
   "language": "python",
   "name": "python3"
  },
  "language_info": {
   "codemirror_mode": {
    "name": "ipython",
    "version": 3
   },
   "file_extension": ".py",
   "mimetype": "text/x-python",
   "name": "python",
   "nbconvert_exporter": "python",
   "pygments_lexer": "ipython3",
   "version": "3.8.5"
  },
  "orig_nbformat": 4
 },
 "nbformat": 4,
 "nbformat_minor": 2
}
