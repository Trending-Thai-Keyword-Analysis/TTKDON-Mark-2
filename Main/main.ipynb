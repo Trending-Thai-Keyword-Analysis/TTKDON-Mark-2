{
 "cells": [
  {
   "cell_type": "code",
   "execution_count": 2,
   "metadata": {},
   "outputs": [],
   "source": [
    "import pandas as pd\n",
    "from collections import Counter\n",
    "from tqdm.auto import tqdm\n",
    "tqdm.pandas()\n",
    "\n",
    "import sys\n",
    "sys.path += [\"../LCS_Cython\", \"../Word_Break\"]\n",
    "from word_break import *\n",
    "from lcs_method import *"
   ]
  },
  {
   "cell_type": "code",
   "execution_count": 216,
   "metadata": {},
   "outputs": [],
   "source": [
    "x = WB(\"attacut_stopword_m10_th31\",\"newmm_stopword_m10_th31\")"
   ]
  },
  {
   "cell_type": "code",
   "execution_count": 217,
   "metadata": {},
   "outputs": [
    {
     "data": {
      "text/html": [
       "<div>\n",
       "<style scoped>\n",
       "    .dataframe tbody tr th:only-of-type {\n",
       "        vertical-align: middle;\n",
       "    }\n",
       "\n",
       "    .dataframe tbody tr th {\n",
       "        vertical-align: top;\n",
       "    }\n",
       "\n",
       "    .dataframe thead th {\n",
       "        text-align: right;\n",
       "    }\n",
       "</style>\n",
       "<table border=\"1\" class=\"dataframe\">\n",
       "  <thead>\n",
       "    <tr style=\"text-align: right;\">\n",
       "      <th></th>\n",
       "      <th>headline</th>\n",
       "      <th>story</th>\n",
       "      <th>category</th>\n",
       "      <th>date</th>\n",
       "      <th>url</th>\n",
       "    </tr>\n",
       "  </thead>\n",
       "  <tbody>\n",
       "    <tr>\n",
       "      <th>0</th>\n",
       "      <td>บีทีเอส กรุ๊ปฯ ติดอันดับดัชนีความยั่งยืนดาวโจน...</td>\n",
       "      <td>บีทีเอส กรุ๊ปฯ ติดอันดับดัชนีความยั่งยืนดาวโจน...</td>\n",
       "      <td>NaN</td>\n",
       "      <td>2021_11_28</td>\n",
       "      <td>https://www.springnews.co.th/news/818477</td>\n",
       "    </tr>\n",
       "  </tbody>\n",
       "</table>\n",
       "</div>"
      ],
      "text/plain": [
       "                                            headline  \\\n",
       "0  บีทีเอส กรุ๊ปฯ ติดอันดับดัชนีความยั่งยืนดาวโจน...   \n",
       "\n",
       "                                               story  category        date  \\\n",
       "0  บีทีเอส กรุ๊ปฯ ติดอันดับดัชนีความยั่งยืนดาวโจน...       NaN  2021_11_28   \n",
       "\n",
       "                                        url  \n",
       "0  https://www.springnews.co.th/news/818477  "
      ]
     },
     "execution_count": 217,
     "metadata": {},
     "output_type": "execute_result"
    }
   ],
   "source": [
    "file_name = \"2021_11_28\"\n",
    "df = pd.read_csv(f\"../assets/Split_Date/{file_name}.csv\")\n",
    "df"
   ]
  },
  {
   "cell_type": "code",
   "execution_count": 218,
   "metadata": {},
   "outputs": [
    {
     "data": {
      "text/html": [
       "<div>\n",
       "<style scoped>\n",
       "    .dataframe tbody tr th:only-of-type {\n",
       "        vertical-align: middle;\n",
       "    }\n",
       "\n",
       "    .dataframe tbody tr th {\n",
       "        vertical-align: top;\n",
       "    }\n",
       "\n",
       "    .dataframe thead th {\n",
       "        text-align: right;\n",
       "    }\n",
       "</style>\n",
       "<table border=\"1\" class=\"dataframe\">\n",
       "  <thead>\n",
       "    <tr style=\"text-align: right;\">\n",
       "      <th></th>\n",
       "      <th>headline</th>\n",
       "      <th>story</th>\n",
       "      <th>category</th>\n",
       "      <th>date</th>\n",
       "      <th>url</th>\n",
       "    </tr>\n",
       "  </thead>\n",
       "  <tbody>\n",
       "    <tr>\n",
       "      <th>0</th>\n",
       "      <td>บีทีเอส กรุ๊ปฯ ติดอันดับดัชนีความยั่งยืนดาวโจน...</td>\n",
       "      <td>บีทีเอส กรุ๊ปฯ ติดอันดับดัชนีความยั่งยืนดาวโจน...</td>\n",
       "      <td>NaN</td>\n",
       "      <td>2021_11_28</td>\n",
       "      <td>https://www.springnews.co.th/news/818477</td>\n",
       "    </tr>\n",
       "  </tbody>\n",
       "</table>\n",
       "</div>"
      ],
      "text/plain": [
       "                                            headline  \\\n",
       "0  บีทีเอส กรุ๊ปฯ ติดอันดับดัชนีความยั่งยืนดาวโจน...   \n",
       "\n",
       "                                               story  category        date  \\\n",
       "0  บีทีเอส กรุ๊ปฯ ติดอันดับดัชนีความยั่งยืนดาวโจน...       NaN  2021_11_28   \n",
       "\n",
       "                                        url  \n",
       "0  https://www.springnews.co.th/news/818477  "
      ]
     },
     "execution_count": 218,
     "metadata": {},
     "output_type": "execute_result"
    }
   ],
   "source": [
    "df.drop_duplicates(inplace=True,ignore_index=True)\n",
    "df"
   ]
  },
  {
   "cell_type": "code",
   "execution_count": 219,
   "metadata": {},
   "outputs": [
    {
     "name": "stderr",
     "output_type": "stream",
     "text": [
      "100%|██████████| 1/1 [00:00<00:00, 21.80it/s]\n"
     ]
    }
   ],
   "source": [
    "x.word_break(df)"
   ]
  },
  {
   "cell_type": "code",
   "execution_count": 220,
   "metadata": {},
   "outputs": [
    {
     "data": {
      "text/plain": [
       "1"
      ]
     },
     "execution_count": 220,
     "metadata": {},
     "output_type": "execute_result"
    }
   ],
   "source": [
    "len(x.attacut_WB)"
   ]
  },
  {
   "cell_type": "code",
   "execution_count": 221,
   "metadata": {},
   "outputs": [],
   "source": [
    "def LCS(atta_list, newmm_list):\n",
    "    l = len(atta_list)\n",
    "    lcs_atta = []\n",
    "    lcs_newmm = []\n",
    "    for i in tqdm(range(l-1)):\n",
    "        w1_atta = atta_list[i]\n",
    "        len_w1_atta = len(w1_atta)\n",
    "        w1_newmm = newmm_list[i]\n",
    "        len_w1_newmm = len(w1_newmm)\n",
    "        for j in range(i+1,l):\n",
    "            w2_atta = atta_list[j]\n",
    "            len_w2_atta = len(w2_atta)\n",
    "            w2_newmm = newmm_list[j]\n",
    "            len_w2_newmm = len(w2_newmm)\n",
    "            lcs_atta_list,maxl_atta = [],0\n",
    "            lcs_newmm_list,maxl_newmm = [],0\n",
    "            if i != j:\n",
    "                lcs_atta_list,maxl_atta = lcs_algo(w1_atta,w2_atta,len_w1_atta,len_w2_atta)\n",
    "                lcs_newmm_list,maxl_newmm = lcs_algo(w1_newmm,w2_newmm,len_w1_newmm,len_w2_newmm)\n",
    "                if lcs_atta_list != []:\n",
    "                    lcs_atta.extend(lcs_atta_list)\n",
    "                if lcs_newmm_list != []:\n",
    "                    lcs_newmm.extend(lcs_newmm_list)\n",
    "\n",
    "    lcs_atta_counter = Counter(lcs_atta)\n",
    "    lcs_newmm_counter = Counter(lcs_newmm)\n",
    "    return lcs_atta_counter, lcs_newmm_counter"
   ]
  },
  {
   "cell_type": "code",
   "execution_count": 222,
   "metadata": {},
   "outputs": [
    {
     "name": "stderr",
     "output_type": "stream",
     "text": [
      "0it [00:00, ?it/s]\n"
     ]
    }
   ],
   "source": [
    "lcs_atta, lcs_newmm = LCS(x.attacut_WB,x.newmm_WB)"
   ]
  },
  {
   "cell_type": "code",
   "execution_count": 223,
   "metadata": {},
   "outputs": [],
   "source": [
    "def LCS_result(data):\n",
    "    df_result = pd.DataFrame(data.items(), columns=['LCS', 'match'])\n",
    "    df_result['total_match'] = df_result['match'].sum()\n",
    "    df_result.sort_values(['match'], ascending=False, inplace=True, ignore_index=True)\n",
    "    return df_result"
   ]
  },
  {
   "cell_type": "code",
   "execution_count": 224,
   "metadata": {},
   "outputs": [
    {
     "data": {
      "text/html": [
       "<div>\n",
       "<style scoped>\n",
       "    .dataframe tbody tr th:only-of-type {\n",
       "        vertical-align: middle;\n",
       "    }\n",
       "\n",
       "    .dataframe tbody tr th {\n",
       "        vertical-align: top;\n",
       "    }\n",
       "\n",
       "    .dataframe thead th {\n",
       "        text-align: right;\n",
       "    }\n",
       "</style>\n",
       "<table border=\"1\" class=\"dataframe\">\n",
       "  <thead>\n",
       "    <tr style=\"text-align: right;\">\n",
       "      <th></th>\n",
       "      <th>LCS</th>\n",
       "      <th>match</th>\n",
       "      <th>total_match</th>\n",
       "    </tr>\n",
       "  </thead>\n",
       "  <tbody>\n",
       "  </tbody>\n",
       "</table>\n",
       "</div>"
      ],
      "text/plain": [
       "Empty DataFrame\n",
       "Columns: [LCS, match, total_match]\n",
       "Index: []"
      ]
     },
     "execution_count": 224,
     "metadata": {},
     "output_type": "execute_result"
    }
   ],
   "source": [
    "result_newmm = LCS_result(lcs_newmm)\n",
    "result_newmm[:50]"
   ]
  },
  {
   "cell_type": "code",
   "execution_count": 225,
   "metadata": {},
   "outputs": [],
   "source": [
    "result_newmm.to_csv(f\"../assets/Result/newmm/{file_name}.csv\",index = False)"
   ]
  },
  {
   "cell_type": "code",
   "execution_count": 226,
   "metadata": {},
   "outputs": [
    {
     "data": {
      "text/html": [
       "<div>\n",
       "<style scoped>\n",
       "    .dataframe tbody tr th:only-of-type {\n",
       "        vertical-align: middle;\n",
       "    }\n",
       "\n",
       "    .dataframe tbody tr th {\n",
       "        vertical-align: top;\n",
       "    }\n",
       "\n",
       "    .dataframe thead th {\n",
       "        text-align: right;\n",
       "    }\n",
       "</style>\n",
       "<table border=\"1\" class=\"dataframe\">\n",
       "  <thead>\n",
       "    <tr style=\"text-align: right;\">\n",
       "      <th></th>\n",
       "      <th>LCS</th>\n",
       "      <th>match</th>\n",
       "      <th>total_match</th>\n",
       "    </tr>\n",
       "  </thead>\n",
       "  <tbody>\n",
       "  </tbody>\n",
       "</table>\n",
       "</div>"
      ],
      "text/plain": [
       "Empty DataFrame\n",
       "Columns: [LCS, match, total_match]\n",
       "Index: []"
      ]
     },
     "execution_count": 226,
     "metadata": {},
     "output_type": "execute_result"
    }
   ],
   "source": [
    "result_atta = LCS_result(lcs_atta)\n",
    "result_atta[:50]"
   ]
  },
  {
   "cell_type": "code",
   "execution_count": 227,
   "metadata": {},
   "outputs": [],
   "source": [
    "result_atta.to_csv(f\"../assets/Result/attacut/{file_name}.csv\",index = False)"
   ]
  },
  {
   "cell_type": "code",
   "execution_count": 53,
   "metadata": {},
   "outputs": [
    {
     "data": {
      "text/html": [
       "<div>\n",
       "<style scoped>\n",
       "    .dataframe tbody tr th:only-of-type {\n",
       "        vertical-align: middle;\n",
       "    }\n",
       "\n",
       "    .dataframe tbody tr th {\n",
       "        vertical-align: top;\n",
       "    }\n",
       "\n",
       "    .dataframe thead th {\n",
       "        text-align: right;\n",
       "    }\n",
       "</style>\n",
       "<table border=\"1\" class=\"dataframe\">\n",
       "  <thead>\n",
       "    <tr style=\"text-align: right;\">\n",
       "      <th></th>\n",
       "      <th>LCS</th>\n",
       "      <th>match</th>\n",
       "      <th>total_match</th>\n",
       "    </tr>\n",
       "  </thead>\n",
       "  <tbody>\n",
       "    <tr>\n",
       "      <th>0</th>\n",
       "      <td>โล่เชิดชูยล</td>\n",
       "      <td>48</td>\n",
       "      <td>1271</td>\n",
       "    </tr>\n",
       "    <tr>\n",
       "      <th>1</th>\n",
       "      <td>PattayaMusicFestival</td>\n",
       "      <td>21</td>\n",
       "      <td>1271</td>\n",
       "    </tr>\n",
       "    <tr>\n",
       "      <th>2</th>\n",
       "      <td>ผู้อพยพล่มช่องแคบ</td>\n",
       "      <td>21</td>\n",
       "      <td>1271</td>\n",
       "    </tr>\n",
       "    <tr>\n",
       "      <th>3</th>\n",
       "      <td>ขับไล่แอมเนสตี้</td>\n",
       "      <td>20</td>\n",
       "      <td>1271</td>\n",
       "    </tr>\n",
       "    <tr>\n",
       "      <th>4</th>\n",
       "      <td>เสกสกลอัต</td>\n",
       "      <td>15</td>\n",
       "      <td>1271</td>\n",
       "    </tr>\n",
       "    <tr>\n",
       "      <th>5</th>\n",
       "      <td>แอมเนสตี้อินเตอร์เนชั่นแนล</td>\n",
       "      <td>15</td>\n",
       "      <td>1271</td>\n",
       "    </tr>\n",
       "    <tr>\n",
       "      <th>6</th>\n",
       "      <td>ศูนย์รวม(ศปปส.</td>\n",
       "      <td>15</td>\n",
       "      <td>1271</td>\n",
       "    </tr>\n",
       "    <tr>\n",
       "      <th>7</th>\n",
       "      <td>ขับไล่แอมเนสตี้อินเตอร์เนชั่นแนล</td>\n",
       "      <td>12</td>\n",
       "      <td>1271</td>\n",
       "    </tr>\n",
       "    <tr>\n",
       "      <th>8</th>\n",
       "      <td>การประชุมสุดยอดSummitDemocracy</td>\n",
       "      <td>12</td>\n",
       "      <td>1271</td>\n",
       "    </tr>\n",
       "    <tr>\n",
       "      <th>9</th>\n",
       "      <td>USFDAประมาณการข้อบ่งชี้คอร์สบรรจุภัณฑ์มิลลิกรั...</td>\n",
       "      <td>10</td>\n",
       "      <td>1271</td>\n",
       "    </tr>\n",
       "  </tbody>\n",
       "</table>\n",
       "</div>"
      ],
      "text/plain": [
       "                                                 LCS  match  total_match\n",
       "0                                        โล่เชิดชูยล     48         1271\n",
       "1                               PattayaMusicFestival     21         1271\n",
       "2                                  ผู้อพยพล่มช่องแคบ     21         1271\n",
       "3                                    ขับไล่แอมเนสตี้     20         1271\n",
       "4                                          เสกสกลอัต     15         1271\n",
       "5                         แอมเนสตี้อินเตอร์เนชั่นแนล     15         1271\n",
       "6                                     ศูนย์รวม(ศปปส.     15         1271\n",
       "7                   ขับไล่แอมเนสตี้อินเตอร์เนชั่นแนล     12         1271\n",
       "8                     การประชุมสุดยอดSummitDemocracy     12         1271\n",
       "9  USFDAประมาณการข้อบ่งชี้คอร์สบรรจุภัณฑ์มิลลิกรั...     10         1271"
      ]
     },
     "execution_count": 53,
     "metadata": {},
     "output_type": "execute_result"
    }
   ],
   "source": [
    "df = pd.read_csv(r\"E:\\work\\virtualenv\\project-infoquest\\TTKDON-Mark-2\\assets\\Result\\newmm\\2021_11_25.csv\")\n",
    "df[:10]"
   ]
  }
 ],
 "metadata": {
  "interpreter": {
   "hash": "b825cfde57f4fe2b066dee46d870faf19522c56f6a6e540eacd30e52a1215036"
  },
  "kernelspec": {
   "display_name": "Python 3.8.5 64-bit ('base': conda)",
   "language": "python",
   "name": "python3"
  },
  "language_info": {
   "codemirror_mode": {
    "name": "ipython",
    "version": 3
   },
   "file_extension": ".py",
   "mimetype": "text/x-python",
   "name": "python",
   "nbconvert_exporter": "python",
   "pygments_lexer": "ipython3",
   "version": "3.8.5"
  },
  "orig_nbformat": 4
 },
 "nbformat": 4,
 "nbformat_minor": 2
}
