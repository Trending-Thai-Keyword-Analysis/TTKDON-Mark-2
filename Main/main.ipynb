{
 "cells": [
  {
   "cell_type": "code",
   "execution_count": 2,
   "metadata": {},
   "outputs": [],
   "source": [
    "import pandas as pd\n",
    "from collections import Counter\n",
    "from tqdm.auto import tqdm\n",
    "tqdm.pandas()\n",
    "\n",
    "import sys\n",
    "sys.path += [\"../LCS_Cython\", \"../Word_Break\"]\n",
    "from word_break import *\n",
    "from lcs_method import *"
   ]
  },
  {
   "cell_type": "code",
   "execution_count": 23,
   "metadata": {},
   "outputs": [],
   "source": [
    "x = WB(\"attacut_stopword_m09_th30\",\"newmm_stopword_m09_th30\")"
   ]
  },
  {
   "cell_type": "code",
   "execution_count": 450,
   "metadata": {},
   "outputs": [
    {
     "data": {
      "text/html": [
       "<div>\n",
       "<style scoped>\n",
       "    .dataframe tbody tr th:only-of-type {\n",
       "        vertical-align: middle;\n",
       "    }\n",
       "\n",
       "    .dataframe tbody tr th {\n",
       "        vertical-align: top;\n",
       "    }\n",
       "\n",
       "    .dataframe thead th {\n",
       "        text-align: right;\n",
       "    }\n",
       "</style>\n",
       "<table border=\"1\" class=\"dataframe\">\n",
       "  <thead>\n",
       "    <tr style=\"text-align: right;\">\n",
       "      <th></th>\n",
       "      <th>headline</th>\n",
       "      <th>story</th>\n",
       "      <th>category</th>\n",
       "      <th>date</th>\n",
       "      <th>url</th>\n",
       "    </tr>\n",
       "  </thead>\n",
       "  <tbody>\n",
       "    <tr>\n",
       "      <th>0</th>\n",
       "      <td>วัดพระธรรมกาย มูลนิธิธรรมกาย และกัลยาณมิตรทั่ว...</td>\n",
       "      <td>วัดพระธรรมกาย มูลนิธิธรรมกาย และกัลยาณมิตรทั่ว...</td>\n",
       "      <td>ในประเทศ</td>\n",
       "      <td>2021_10_21</td>\n",
       "      <td>https://www.thairath.co.th/news/2219287</td>\n",
       "    </tr>\n",
       "    <tr>\n",
       "      <th>1</th>\n",
       "      <td>เมื่อโลกมองเกาหลี ทำไม 26 คำศัพท์เกาหลี ถูกบรร...</td>\n",
       "      <td>ปฏิเสธไม่ได้ว่าขณะนี้ คลื่นความนิยมเกาหลี (K-W...</td>\n",
       "      <td>ไลฟ์</td>\n",
       "      <td>2021_10_21</td>\n",
       "      <td>https://www.thairath.co.th/news/2219940</td>\n",
       "    </tr>\n",
       "    <tr>\n",
       "      <th>2</th>\n",
       "      <td>อีกขั้นของแอปฯ 'เป๋าตัง' ครั้งแรกในเอเชีย! ซื้...</td>\n",
       "      <td>การเปิดขายหุ้นกู้ดิจิทัล ปตท.สผ. ผ่านวอลเล็ตบน...</td>\n",
       "      <td>การลงทุน</td>\n",
       "      <td>2021_10_21</td>\n",
       "      <td>https://www.thairath.co.th/news/2221960</td>\n",
       "    </tr>\n",
       "    <tr>\n",
       "      <th>3</th>\n",
       "      <td>ปุ๊ อัญชลี 37 ปี ในวงการ ความคิดตกตะกอนในวัย 6...</td>\n",
       "      <td>เอ่ยชื่อนักร้องสาว ปุ๊ อัญชลี จงคดีกิจ ที่มีผล...</td>\n",
       "      <td>ข่าวบันเทิง</td>\n",
       "      <td>2021_10_21</td>\n",
       "      <td>https://www.thairath.co.th/news/2222355</td>\n",
       "    </tr>\n",
       "    <tr>\n",
       "      <th>4</th>\n",
       "      <td>ชวนไขข้อสงสัย \"ทำไมน้ำมันแพง\" ไม่ใช่แค่เมืองไท...</td>\n",
       "      <td>ช่วงเดือน ก.ย. และ ต.ค. 64 เราจะได้เห็นการปรับ...</td>\n",
       "      <td>บทวิเคราะห์เศรษฐกิจ</td>\n",
       "      <td>2021_10_21</td>\n",
       "      <td>https://www.thairath.co.th/news/2223022</td>\n",
       "    </tr>\n",
       "    <tr>\n",
       "      <th>...</th>\n",
       "      <td>...</td>\n",
       "      <td>...</td>\n",
       "      <td>...</td>\n",
       "      <td>...</td>\n",
       "      <td>...</td>\n",
       "    </tr>\n",
       "    <tr>\n",
       "      <th>1144</th>\n",
       "      <td>สวรรค์ล่ม! จับ \"ตั้ม สบตุ๋ย\" ค้ายา ลวงสาวเข้าม...</td>\n",
       "      <td>จากกรณีเมื่อช่วงดึกของวันที่ 20 ต.ค. 64 เจ้าหน...</td>\n",
       "      <td>Exclusive news</td>\n",
       "      <td>2021_10_21</td>\n",
       "      <td>https://www.amarintv.com/news/detail/104153</td>\n",
       "    </tr>\n",
       "    <tr>\n",
       "      <th>1145</th>\n",
       "      <td>ผลทดลองพบวัคซีน ไฟเซอร์ เข็มกระตุ้น มีประสิทธิ...</td>\n",
       "      <td>วันที่ 21 ต.ค.64 ไฟเซอร์-ไบออนเทค เผยผลการทดลอ...</td>\n",
       "      <td>ข่าวเด่น</td>\n",
       "      <td>2021_10_21</td>\n",
       "      <td>https://www.amarintv.com/news/detail/104164</td>\n",
       "    </tr>\n",
       "    <tr>\n",
       "      <th>1146</th>\n",
       "      <td>นายกฯ ประกาศ 46 ประเทศเดินทางเข้าไทย ไม่ต้องกั...</td>\n",
       "      <td>วันที่ 21 ต.ค.64 พล.อ.ประยุทธ์ จันทร์โอชา นายก...</td>\n",
       "      <td>ข่าวเด่น</td>\n",
       "      <td>2021_10_21</td>\n",
       "      <td>https://www.amarintv.com/news/detail/104167</td>\n",
       "    </tr>\n",
       "    <tr>\n",
       "      <th>1147</th>\n",
       "      <td>เปิดรายชื่อ 46 ประเทศ เดินทางเข้าไทย ไม่ต้องกั...</td>\n",
       "      <td>จากกรณีวันนี้ (21 ต.ค.64) พล.อ.ประยุทธ์ จันทร์...</td>\n",
       "      <td>ข่าวเด่น</td>\n",
       "      <td>2021_10_21</td>\n",
       "      <td>https://www.amarintv.com/news/detail/104168</td>\n",
       "    </tr>\n",
       "    <tr>\n",
       "      <th>1148</th>\n",
       "      <td>คุกทั้งคู่! หนุ่มขอเบิ้ลสาวบริการ ทนายชี้สัญญา...</td>\n",
       "      <td>จากคลิปที่แชร์บนโลกออนไลน์ และเป็นที่พูดถึงอย่...</td>\n",
       "      <td>Exclusive news</td>\n",
       "      <td>2021_10_21</td>\n",
       "      <td>https://www.amarintv.com/news/detail/104169</td>\n",
       "    </tr>\n",
       "  </tbody>\n",
       "</table>\n",
       "<p>1149 rows × 5 columns</p>\n",
       "</div>"
      ],
      "text/plain": [
       "                                               headline  \\\n",
       "0     วัดพระธรรมกาย มูลนิธิธรรมกาย และกัลยาณมิตรทั่ว...   \n",
       "1     เมื่อโลกมองเกาหลี ทำไม 26 คำศัพท์เกาหลี ถูกบรร...   \n",
       "2     อีกขั้นของแอปฯ 'เป๋าตัง' ครั้งแรกในเอเชีย! ซื้...   \n",
       "3     ปุ๊ อัญชลี 37 ปี ในวงการ ความคิดตกตะกอนในวัย 6...   \n",
       "4     ชวนไขข้อสงสัย \"ทำไมน้ำมันแพง\" ไม่ใช่แค่เมืองไท...   \n",
       "...                                                 ...   \n",
       "1144  สวรรค์ล่ม! จับ \"ตั้ม สบตุ๋ย\" ค้ายา ลวงสาวเข้าม...   \n",
       "1145  ผลทดลองพบวัคซีน ไฟเซอร์ เข็มกระตุ้น มีประสิทธิ...   \n",
       "1146  นายกฯ ประกาศ 46 ประเทศเดินทางเข้าไทย ไม่ต้องกั...   \n",
       "1147  เปิดรายชื่อ 46 ประเทศ เดินทางเข้าไทย ไม่ต้องกั...   \n",
       "1148  คุกทั้งคู่! หนุ่มขอเบิ้ลสาวบริการ ทนายชี้สัญญา...   \n",
       "\n",
       "                                                  story             category  \\\n",
       "0     วัดพระธรรมกาย มูลนิธิธรรมกาย และกัลยาณมิตรทั่ว...             ในประเทศ   \n",
       "1     ปฏิเสธไม่ได้ว่าขณะนี้ คลื่นความนิยมเกาหลี (K-W...                 ไลฟ์   \n",
       "2     การเปิดขายหุ้นกู้ดิจิทัล ปตท.สผ. ผ่านวอลเล็ตบน...             การลงทุน   \n",
       "3     เอ่ยชื่อนักร้องสาว ปุ๊ อัญชลี จงคดีกิจ ที่มีผล...          ข่าวบันเทิง   \n",
       "4     ช่วงเดือน ก.ย. และ ต.ค. 64 เราจะได้เห็นการปรับ...  บทวิเคราะห์เศรษฐกิจ   \n",
       "...                                                 ...                  ...   \n",
       "1144  จากกรณีเมื่อช่วงดึกของวันที่ 20 ต.ค. 64 เจ้าหน...       Exclusive news   \n",
       "1145  วันที่ 21 ต.ค.64 ไฟเซอร์-ไบออนเทค เผยผลการทดลอ...             ข่าวเด่น   \n",
       "1146  วันที่ 21 ต.ค.64 พล.อ.ประยุทธ์ จันทร์โอชา นายก...             ข่าวเด่น   \n",
       "1147  จากกรณีวันนี้ (21 ต.ค.64) พล.อ.ประยุทธ์ จันทร์...             ข่าวเด่น   \n",
       "1148  จากคลิปที่แชร์บนโลกออนไลน์ และเป็นที่พูดถึงอย่...       Exclusive news   \n",
       "\n",
       "            date                                          url  \n",
       "0     2021_10_21      https://www.thairath.co.th/news/2219287  \n",
       "1     2021_10_21      https://www.thairath.co.th/news/2219940  \n",
       "2     2021_10_21      https://www.thairath.co.th/news/2221960  \n",
       "3     2021_10_21      https://www.thairath.co.th/news/2222355  \n",
       "4     2021_10_21      https://www.thairath.co.th/news/2223022  \n",
       "...          ...                                          ...  \n",
       "1144  2021_10_21  https://www.amarintv.com/news/detail/104153  \n",
       "1145  2021_10_21  https://www.amarintv.com/news/detail/104164  \n",
       "1146  2021_10_21  https://www.amarintv.com/news/detail/104167  \n",
       "1147  2021_10_21  https://www.amarintv.com/news/detail/104168  \n",
       "1148  2021_10_21  https://www.amarintv.com/news/detail/104169  \n",
       "\n",
       "[1149 rows x 5 columns]"
      ]
     },
     "execution_count": 450,
     "metadata": {},
     "output_type": "execute_result"
    }
   ],
   "source": [
    "file_name = \"2021_10_21\"\n",
    "df = pd.read_csv(f\"../assets/Split_Date/{file_name}.csv\")\n",
    "df.drop_duplicates(inplace=True,ignore_index=True)\n",
    "df"
   ]
  },
  {
   "cell_type": "code",
   "execution_count": 274,
   "metadata": {},
   "outputs": [
    {
     "data": {
      "text/html": [
       "<div>\n",
       "<style scoped>\n",
       "    .dataframe tbody tr th:only-of-type {\n",
       "        vertical-align: middle;\n",
       "    }\n",
       "\n",
       "    .dataframe tbody tr th {\n",
       "        vertical-align: top;\n",
       "    }\n",
       "\n",
       "    .dataframe thead th {\n",
       "        text-align: right;\n",
       "    }\n",
       "</style>\n",
       "<table border=\"1\" class=\"dataframe\">\n",
       "  <thead>\n",
       "    <tr style=\"text-align: right;\">\n",
       "      <th></th>\n",
       "      <th>headline</th>\n",
       "      <th>story</th>\n",
       "      <th>category</th>\n",
       "      <th>date</th>\n",
       "      <th>url</th>\n",
       "    </tr>\n",
       "  </thead>\n",
       "  <tbody>\n",
       "    <tr>\n",
       "      <th>4</th>\n",
       "      <td>ขัอมูลส่วนบุคคล ขายเกลื่อน ราคาถูก คนไทยโดนดูด...</td>\n",
       "      <td>แค่ธนาคาร หรือ หน่วยงานที่เกี่ยวข้อง แสดงความร...</td>\n",
       "      <td>THE ISSUE</td>\n",
       "      <td>2021_10_22</td>\n",
       "      <td>https://www.thairath.co.th/news/2224486</td>\n",
       "    </tr>\n",
       "    <tr>\n",
       "      <th>37</th>\n",
       "      <td>เตือนอย่าเชื่อ SMS-อีเมลมิจฉาชีพปลอม! ลงทะเบีย...</td>\n",
       "      <td>น.ส.นพวรรณ หัวใจมั่น โฆษกกระทรวงดิจิทัลเพื่อเศ...</td>\n",
       "      <td>เศรษฐกิจ-นโยบาย</td>\n",
       "      <td>2021_10_22</td>\n",
       "      <td>https://www.thairath.co.th/news/2224967</td>\n",
       "    </tr>\n",
       "    <tr>\n",
       "      <th>68</th>\n",
       "      <td>โฆษกรัฐบาล ยัน \"คนละครึ่ง เฟส 4\" ยังไร้การขอข้...</td>\n",
       "      <td>โฆษกรัฐบาล ยืนยัน คนละครึ่ง เฟส 4 ยังไม่มีการข...</td>\n",
       "      <td>การเมือง</td>\n",
       "      <td>2021_10_22</td>\n",
       "      <td>https://www.thairath.co.th/news/2225146</td>\n",
       "    </tr>\n",
       "    <tr>\n",
       "      <th>152</th>\n",
       "      <td>เตือนอย่าหลงเชื่อ \"คนละครึ่ง เฟส 4\" ยังไม่มีกา...</td>\n",
       "      <td>โฆษกรัฐบาล ยืนยัน คนละครึ่งเฟส 4 ยังไม่มีการขอ...</td>\n",
       "      <td>สังคม</td>\n",
       "      <td>2021_10_22</td>\n",
       "      <td>https://news.thaipbs.or.th/content/308904</td>\n",
       "    </tr>\n",
       "    <tr>\n",
       "      <th>177</th>\n",
       "      <td>โฆษกรัฐบาล เตือน ระวังมิจฉาชีพดูดเงินอ้างโครงก...</td>\n",
       "      <td>นายธนกร วังบุญคงชนะ โฆษกประจำสำนักนายกรัฐมนตรี...</td>\n",
       "      <td>NaN</td>\n",
       "      <td>2021_10_22</td>\n",
       "      <td>https://www.springnews.co.th/news/817369</td>\n",
       "    </tr>\n",
       "    <tr>\n",
       "      <th>254</th>\n",
       "      <td>โฆษกรบ.เตือนปชช. อย่าหลงเชื่อ ยันคนละครึ่งเฟส ...</td>\n",
       "      <td>วันที่ 22 ต.ค.64 นายธนกร วังบุญคงชนะ โฆษกประจำ...</td>\n",
       "      <td>การเมือง</td>\n",
       "      <td>2021_10_22</td>\n",
       "      <td>https://siamrath.co.th/n/291220</td>\n",
       "    </tr>\n",
       "    <tr>\n",
       "      <th>372</th>\n",
       "      <td>DES ห่วงคนไทยหลงเชื่อการแชร์ข่าวปลอมในไลน์</td>\n",
       "      <td>นางสาวนพวรรณ หัวใจมั่น โฆษกกระทรวงดิจิทัลเพื่อ...</td>\n",
       "      <td>เทคโนโลยี-ไอที</td>\n",
       "      <td>2021_10_22</td>\n",
       "      <td>https://siamrath.co.th/n/291354</td>\n",
       "    </tr>\n",
       "    <tr>\n",
       "      <th>499</th>\n",
       "      <td>วันที่ 22 ต.ค. 2564 นายธนกร วังบุญคงชนะ โฆษก...</td>\n",
       "      <td>วันที่ 22 ต.ค. 2564 นายธนกร วังบุญคงชนะ โฆษกปร...</td>\n",
       "      <td>NaN</td>\n",
       "      <td>2021_10_22</td>\n",
       "      <td>https://www.pptvhd36.com/news/158967</td>\n",
       "    </tr>\n",
       "    <tr>\n",
       "      <th>568</th>\n",
       "      <td>เตือนปชช. อย่าหลงเชื่อ SMS ลงทะเบียนคนละครึ่งเ...</td>\n",
       "      <td>โฆษกดีอีเอสเตือนอย่าหลงเชื่อ SMS ให้ประชาชนกรอ...</td>\n",
       "      <td>สังคม</td>\n",
       "      <td>2021_10_22</td>\n",
       "      <td>https://www.posttoday.com/politic/news/666160</td>\n",
       "    </tr>\n",
       "    <tr>\n",
       "      <th>640</th>\n",
       "      <td>ระวังแก๊ง \"มิจฉาชีพ\" ส่ง sms โครงการ \"คนละครึ่...</td>\n",
       "      <td>\"โฆษกรัฐบาล\" แจ้งเตือนภัยแก๊ง \"มิจฉาชีพ\" เริ่ม...</td>\n",
       "      <td>สังคม</td>\n",
       "      <td>2021_10_22</td>\n",
       "      <td>https://www.nationtv.tv/news/378847825</td>\n",
       "    </tr>\n",
       "    <tr>\n",
       "      <th>695</th>\n",
       "      <td>ผู้บริโภคเร่งดีอีเอส คุมเข้มร้านออนไลน์ต่างชาต...</td>\n",
       "      <td>มูลนิธิเพื่อผู้บริโภค จี้กระทรวงดิจิทัลฯ ออกกฎ...</td>\n",
       "      <td>สังคม</td>\n",
       "      <td>2021_10_22</td>\n",
       "      <td>https://www.nationtv.tv/news/378847880</td>\n",
       "    </tr>\n",
       "    <tr>\n",
       "      <th>731</th>\n",
       "      <td>“คนละครึ่งเฟส 4” ยังไม่มี อย่าหลงเชื่อมิจฉาชีพ...</td>\n",
       "      <td>แจ้งเตือน! ประชาชน จากกรณีมิจฉาชีพแอบอ้างโครงก...</td>\n",
       "      <td>สังคม</td>\n",
       "      <td>2021_10_22</td>\n",
       "      <td>https://www.nationtv.tv/news/378847918</td>\n",
       "    </tr>\n",
       "    <tr>\n",
       "      <th>747</th>\n",
       "      <td>เหยื่อ “มู่ลี่ทิพย์” โผล่เพิ่ม แฉซ้ำ-ยันเอาเรื...</td>\n",
       "      <td>ประเด็นเกาะติดของ “เนชั่น ทีวี” กรณีมู่ลี่ทิพย...</td>\n",
       "      <td>อาชญากรรม</td>\n",
       "      <td>2021_10_22</td>\n",
       "      <td>https://www.nationtv.tv/news/378847934</td>\n",
       "    </tr>\n",
       "    <tr>\n",
       "      <th>829</th>\n",
       "      <td>โฆษกรัฐบาล ยัน \"คนละครึ่งเฟส 4\" ไม่มีการขอข้อ...</td>\n",
       "      <td>โฆษกรัฐบาล ธนกร วังบุญคงชนะ ยืนยัน \"คนละครึ่งเ...</td>\n",
       "      <td>การเมือง</td>\n",
       "      <td>2021_10_22</td>\n",
       "      <td>https://www.komchadluek.net/news/489294</td>\n",
       "    </tr>\n",
       "    <tr>\n",
       "      <th>917</th>\n",
       "      <td>เตือนประชาชนอย่าหลงให้ข้อมูลส่วนตัว คนละครึ่งเ...</td>\n",
       "      <td>นายธนกร วังบุญคงชนะ โฆษกประจำสำนักนายกรัฐมนตรี...</td>\n",
       "      <td>ข่าวเด่น</td>\n",
       "      <td>2021_10_22</td>\n",
       "      <td>https://www.amarintv.com/news/detail/104190</td>\n",
       "    </tr>\n",
       "    <tr>\n",
       "      <th>940</th>\n",
       "      <td>ตัดสายสิญจน์มัดศพหนุ่มตายเซ่นแอปฯ เงินกู้ หมอป...</td>\n",
       "      <td>เมื่อเวลา 12.00 น. วันที่ 21 ต.ค. 64 พ.ต.ท.ไพศ...</td>\n",
       "      <td>Exclusive news</td>\n",
       "      <td>2021_10_22</td>\n",
       "      <td>https://www.amarintv.com/news/detail/104258</td>\n",
       "    </tr>\n",
       "  </tbody>\n",
       "</table>\n",
       "</div>"
      ],
      "text/plain": [
       "                                              headline  \\\n",
       "4    ขัอมูลส่วนบุคคล ขายเกลื่อน ราคาถูก คนไทยโดนดูด...   \n",
       "37   เตือนอย่าเชื่อ SMS-อีเมลมิจฉาชีพปลอม! ลงทะเบีย...   \n",
       "68   โฆษกรัฐบาล ยัน \"คนละครึ่ง เฟส 4\" ยังไร้การขอข้...   \n",
       "152  เตือนอย่าหลงเชื่อ \"คนละครึ่ง เฟส 4\" ยังไม่มีกา...   \n",
       "177  โฆษกรัฐบาล เตือน ระวังมิจฉาชีพดูดเงินอ้างโครงก...   \n",
       "254  โฆษกรบ.เตือนปชช. อย่าหลงเชื่อ ยันคนละครึ่งเฟส ...   \n",
       "372         DES ห่วงคนไทยหลงเชื่อการแชร์ข่าวปลอมในไลน์   \n",
       "499    วันที่ 22 ต.ค. 2564 นายธนกร วังบุญคงชนะ โฆษก...   \n",
       "568  เตือนปชช. อย่าหลงเชื่อ SMS ลงทะเบียนคนละครึ่งเ...   \n",
       "640  ระวังแก๊ง \"มิจฉาชีพ\" ส่ง sms โครงการ \"คนละครึ่...   \n",
       "695  ผู้บริโภคเร่งดีอีเอส คุมเข้มร้านออนไลน์ต่างชาต...   \n",
       "731  “คนละครึ่งเฟส 4” ยังไม่มี อย่าหลงเชื่อมิจฉาชีพ...   \n",
       "747  เหยื่อ “มู่ลี่ทิพย์” โผล่เพิ่ม แฉซ้ำ-ยันเอาเรื...   \n",
       "829   โฆษกรัฐบาล ยัน \"คนละครึ่งเฟส 4\" ไม่มีการขอข้อ...   \n",
       "917  เตือนประชาชนอย่าหลงให้ข้อมูลส่วนตัว คนละครึ่งเ...   \n",
       "940  ตัดสายสิญจน์มัดศพหนุ่มตายเซ่นแอปฯ เงินกู้ หมอป...   \n",
       "\n",
       "                                                 story         category  \\\n",
       "4    แค่ธนาคาร หรือ หน่วยงานที่เกี่ยวข้อง แสดงความร...        THE ISSUE   \n",
       "37   น.ส.นพวรรณ หัวใจมั่น โฆษกกระทรวงดิจิทัลเพื่อเศ...  เศรษฐกิจ-นโยบาย   \n",
       "68   โฆษกรัฐบาล ยืนยัน คนละครึ่ง เฟส 4 ยังไม่มีการข...         การเมือง   \n",
       "152  โฆษกรัฐบาล ยืนยัน คนละครึ่งเฟส 4 ยังไม่มีการขอ...            สังคม   \n",
       "177  นายธนกร วังบุญคงชนะ โฆษกประจำสำนักนายกรัฐมนตรี...              NaN   \n",
       "254  วันที่ 22 ต.ค.64 นายธนกร วังบุญคงชนะ โฆษกประจำ...         การเมือง   \n",
       "372  นางสาวนพวรรณ หัวใจมั่น โฆษกกระทรวงดิจิทัลเพื่อ...   เทคโนโลยี-ไอที   \n",
       "499  วันที่ 22 ต.ค. 2564 นายธนกร วังบุญคงชนะ โฆษกปร...              NaN   \n",
       "568  โฆษกดีอีเอสเตือนอย่าหลงเชื่อ SMS ให้ประชาชนกรอ...            สังคม   \n",
       "640  \"โฆษกรัฐบาล\" แจ้งเตือนภัยแก๊ง \"มิจฉาชีพ\" เริ่ม...            สังคม   \n",
       "695  มูลนิธิเพื่อผู้บริโภค จี้กระทรวงดิจิทัลฯ ออกกฎ...            สังคม   \n",
       "731  แจ้งเตือน! ประชาชน จากกรณีมิจฉาชีพแอบอ้างโครงก...            สังคม   \n",
       "747  ประเด็นเกาะติดของ “เนชั่น ทีวี” กรณีมู่ลี่ทิพย...        อาชญากรรม   \n",
       "829  โฆษกรัฐบาล ธนกร วังบุญคงชนะ ยืนยัน \"คนละครึ่งเ...         การเมือง   \n",
       "917  นายธนกร วังบุญคงชนะ โฆษกประจำสำนักนายกรัฐมนตรี...         ข่าวเด่น   \n",
       "940  เมื่อเวลา 12.00 น. วันที่ 21 ต.ค. 64 พ.ต.ท.ไพศ...   Exclusive news   \n",
       "\n",
       "           date                                            url  \n",
       "4    2021_10_22        https://www.thairath.co.th/news/2224486  \n",
       "37   2021_10_22        https://www.thairath.co.th/news/2224967  \n",
       "68   2021_10_22        https://www.thairath.co.th/news/2225146  \n",
       "152  2021_10_22      https://news.thaipbs.or.th/content/308904  \n",
       "177  2021_10_22       https://www.springnews.co.th/news/817369  \n",
       "254  2021_10_22                https://siamrath.co.th/n/291220  \n",
       "372  2021_10_22                https://siamrath.co.th/n/291354  \n",
       "499  2021_10_22           https://www.pptvhd36.com/news/158967  \n",
       "568  2021_10_22  https://www.posttoday.com/politic/news/666160  \n",
       "640  2021_10_22         https://www.nationtv.tv/news/378847825  \n",
       "695  2021_10_22         https://www.nationtv.tv/news/378847880  \n",
       "731  2021_10_22         https://www.nationtv.tv/news/378847918  \n",
       "747  2021_10_22         https://www.nationtv.tv/news/378847934  \n",
       "829  2021_10_22        https://www.komchadluek.net/news/489294  \n",
       "917  2021_10_22    https://www.amarintv.com/news/detail/104190  \n",
       "940  2021_10_22    https://www.amarintv.com/news/detail/104258  "
      ]
     },
     "execution_count": 274,
     "metadata": {},
     "output_type": "execute_result"
    }
   ],
   "source": [
    "df[df[\"story\"].str.contains(\"กระทรวงดิจิทัล\")]"
   ]
  },
  {
   "cell_type": "code",
   "execution_count": 264,
   "metadata": {},
   "outputs": [
    {
     "data": {
      "text/plain": [
       "'กรณีสาวรายหนึ่งออกมาเปิดเผยถึงพฤติกรรมของ “นักแสดงตัวย่อ K” โดยกล่าวอ้างว่าเธอนั้นเคยเป็นอดีตแฟนสาวของเขา แต่เมื่อเธอท้องเขาได้บอกให้ไปทำแท้ง และฝ่ายนักแสดง K สัญญาว่าจะแต่งงานด้วย แต่ท้ายที่สุดก็ถูกบอกเลิกทางโทรศัพท์ เรื่องนี้กลายเป็นที่ถูกพูดถึงอย่างหนักในโลกออนไลน์ เมื่อวานนี้ (19 ต.ค.64) ทาง Salt Entertainment ต้นสังกัด “คิม ซอนโฮ” ได้ออกมาเคลื่อนไหวเกี่ยวกับกรณีดังกล่าวพร้อมทั้งระบุว่ากำลังตรวจสอบเรื่องดังกล่าวอยู่ ต้นสังกัด “คิม ซอนโฮ” ขอเวลาตรวจสอบข่าวลือ หลังพระเอกหนุ่มถูกโยงประเด็นฉาว Hometown Cha-Cha-Cha ประชาธิปไตยแห่งกงจิน ที่พร้อมโอบกอดคนที่ชีวิตเคยบอบช้ำ ล่าสุดสื่อเกาหลีใต้ได้รายงานว่า \"คิม ซอนโฮ\" ได้ออกแถลงการณ์ขอโทษอดีตแฟนสาวและทุกคนที่ได้รับผลกระทบ ซึ่งเนื้อหาระบุว่า “ผม คิมซอนโฮ ครับ ผมอยากขอโทษจากใจจริงที่ออกมาช้านะครับ หลังจากไม่กี่วันก่อน มีบทความข่าวที่มีชื่อของผมถูกเผยแพร่ออกมา ผมรู้สึกกลัวอย่างที่ไม่เคยรู้สึกมาก่อน จึงเป็นเหตุผลว่าทำไมผมถึงมาเขียนจดหมายนี้ ผมคบกับเธอด้วยความรู้สึกที่ดี แต่ผมทำร้ายเธอด้วยการกระทำที่ไม่รอบคอบของผม ผมหวังว่าจะได้พบกับเธออีกครั้ง และขอโทษเธออย่างจริงใจด้วยตัวเอง หากแต่ผมยังไม่สามารถกล่าวคำขอโทษได้อย่างเหมาะสมในขณะนี้ และกำลังรอเวลานั้นที่ผมจะได้รับโอกาส ตอนนี้ผมอยากจะขอโทษอย่างจริงจังแม้ผ่านทางจดหมายนี้ ผมขอโทษที่ทำให้คนที่เชื่อมั่นและสนับสนุนผมจนถึงที่สุดต้องผิดหวัง ทุกคนคอยสนับสนุนผมมาโดยตลอด ทำให้ผมเป็นนักแสดง คิมซอนโฮ ได้แบบในทุกวันนี้ แต่ผมเองกลับหลงลืมเรื่องนี้ไป และผมอยากขอโทษผู้คนจำนวนมากที่ทำงานร่วมกับผมในผลงานต่างๆ ที่ได้รับผลกระทบจากความบกพร่องของผมในเหตุการณ์นี้ ผมอยากขอโทษทุกคนอย่างจริงใจครับ googletag.cmd.push(function() { googletag.display(\\'div-gpt-ppn-inarticle2\\'); }); และผมรู้ว่าข้อความเหล่านี้อาจไม่สามารถเข้าถึงใจของหลายๆคน แต่ผมอยากแสดงความรู้สึกอย่างจริงใจออกมา ผมขอโทษจริงๆครับ” ในขณะที่ Salt Entertainment ต้นสังกัด ก็ได้ออกแถลงการณ์อีกครั้ง ขอโทษทุกคนที่ต้องผิดหวังกับพฤติกรรมของศิลปินในสังกัดด้วยเช่นกัน อีกทั้ง สื่อดังเกาหลี เปิดเผยว่า “คิม ซอนโฮ” ได้ตัดสินใจออกจากรายการบันเทิง “2 Days 1 Night” ทางช่อง KBS2 จากข่าวฉาวที่เกิดขึ้น โดยทางทีมงานอาจตัดต่อนำฉากการปรากฎตัวของเขาออก ส่วนแบรนด์ต่างๆที่เคยร่วมงานกับพระเอกหนุ่มเริ่มลบรูปไปหมดแล้ว googletag.cmd.push(function() { googletag.display(\\'div-gpt-ppn-inarticle3\\'); }); สำหรับ “คิม ซอนโฮ” เริ่มต้นการเป็นนักแสดงด้วยการปรากฏตัวบนเวทีและละครเป็นจำนวนมาก ต่อมาเริ่มมีชื่อเสียงมากขึ้นกับซีรีส์ “Start-Up” ในบทพระรอง ผู้คอยช่วยเหลือนางเอกและโด่งดังมากในการรับบท “หัวหน้าฮง” ในซีรีส์น้ำดีเรื่อง Hometown Cha-Cha-Cha ที่เพิ่งจบไป เมื่อ 17 ตุลาคมที่ผ่านมาซึ่งเขารับบทพระเอกเต็มตัว โดยเล่นคู่กับ “ชินมินอา” ซึ่งเคมีของทั้งคู่โดนใจคนดูมาก และ คิม ซอนโฮ มีเสน่ห์ที่แก้มลักยิ้มของเขา กางปฎิทินเช็ก วันหยุดราชการ - ธนาคาร ประจำเดือนตุลาคม 64 มีเพิ่มวันหยุดพิเศษประจำภาค 5 คำแนะวิธีรับมือภัย e-Payment ป้องกันเงินหายจากบัญชีโดยไม่รู้ตัว ขอบคุณภาพ IG seonho__kim , salt_ent อัปเดตข่าวล่าสุดก่อนใคร Add friend ได้ที่ @PPTVOnline function gaActionEvent(event_action, event_category){ if(event_action && event_category){ gtag(\\'event\\', event_action, { \\'event_category\\': event_category, \\'event_label\\': \\'https://www.pptvhd36.com/news/%E0%B8%82%E0%B9%88%E0%B8%B2%E0%B8%A7%E0%B8%9A%E0%B8%B1%E0%B8%99%E0%B9%80%E0%B8%97%E0%B8%B4%E0%B8%87/158823\\', \\'value\\': 1 }); } } function addLineBtnClicked() { gaActionEvent(\\'Add Friend\\', \\'Line\\'); var shareUrl = \\'https://lin.ee/fRsq0ip\\'; if(isMobile()){ window.open(shareUrl, \\'_blank\\').focus(); } else { var windowWidth = 503; var windowHeight = 510; var windowLeft = 0; var windowTop = 0; if (typeof window.screenX != \"undefined\" && (window.screenX >= 0 && window.screenY >= 0)) { windowLeft = (window.screen.availWidth - windowWidth) / 2; windowTop = (window.screen.availHeight - windowHeight) / 2; } else if (typeof window.screenLeft != \"undefined\" && (window.screenLeft >= 0 && window.screenTop >= 0)) { windowLeft = (window.screen.availWidth - windowWidth) / 2; windowTop = (window.screen.availHeight - windowHeight) / 2; } window.open(shareUrl, null, \\'width=\\' + windowWidth + \\',height=\\' + windowHeight + \\',left=\\' + windowLeft + \\',top=\\' + windowTop + \\',resizable=yes,scrollbars=no,chrome=yes,centerscreen=yes\\'); } }'"
      ]
     },
     "execution_count": 264,
     "metadata": {},
     "output_type": "execute_result"
    }
   ],
   "source": [
    "df[\"story\"].iloc[672]"
   ]
  },
  {
   "cell_type": "code",
   "execution_count": 26,
   "metadata": {},
   "outputs": [
    {
     "name": "stderr",
     "output_type": "stream",
     "text": [
      "100%|██████████| 812/812 [01:49<00:00,  7.43it/s]\n"
     ]
    }
   ],
   "source": [
    "x.word_break(df)"
   ]
  },
  {
   "cell_type": "code",
   "execution_count": 27,
   "metadata": {},
   "outputs": [
    {
     "data": {
      "text/plain": [
       "812"
      ]
     },
     "execution_count": 27,
     "metadata": {},
     "output_type": "execute_result"
    }
   ],
   "source": [
    "len(x.attacut_WB)"
   ]
  },
  {
   "cell_type": "code",
   "execution_count": 28,
   "metadata": {},
   "outputs": [],
   "source": [
    "def LCS(atta_list, newmm_list):\n",
    "    l = len(atta_list)\n",
    "    lcs_atta = []\n",
    "    lcs_newmm = []\n",
    "    for i in tqdm(range(l-1)):\n",
    "        w1_atta = atta_list[i]\n",
    "        len_w1_atta = len(w1_atta)\n",
    "        w1_newmm = newmm_list[i]\n",
    "        len_w1_newmm = len(w1_newmm)\n",
    "        for j in range(i+1,l):\n",
    "            w2_atta = atta_list[j]\n",
    "            len_w2_atta = len(w2_atta)\n",
    "            w2_newmm = newmm_list[j]\n",
    "            len_w2_newmm = len(w2_newmm)\n",
    "            lcs_atta_list,maxl_atta = [],0\n",
    "            lcs_newmm_list,maxl_newmm = [],0\n",
    "            if i != j:\n",
    "                lcs_atta_list,maxl_atta = lcs_algo(w1_atta,w2_atta,len_w1_atta,len_w2_atta)\n",
    "                lcs_newmm_list,maxl_newmm = lcs_algo(w1_newmm,w2_newmm,len_w1_newmm,len_w2_newmm)\n",
    "                if lcs_atta_list != []:\n",
    "                    lcs_atta.extend(lcs_atta_list)\n",
    "                if lcs_newmm_list != []:\n",
    "                    lcs_newmm.extend(lcs_newmm_list)\n",
    "\n",
    "    lcs_atta_counter = Counter(lcs_atta)\n",
    "    lcs_newmm_counter = Counter(lcs_newmm)\n",
    "    return lcs_atta_counter, lcs_newmm_counter"
   ]
  },
  {
   "cell_type": "code",
   "execution_count": 29,
   "metadata": {},
   "outputs": [
    {
     "name": "stderr",
     "output_type": "stream",
     "text": [
      "100%|██████████| 811/811 [00:08<00:00, 97.29it/s] \n"
     ]
    }
   ],
   "source": [
    "lcs_atta, lcs_newmm = LCS(x.attacut_WB,x.newmm_WB)"
   ]
  },
  {
   "cell_type": "code",
   "execution_count": 30,
   "metadata": {},
   "outputs": [],
   "source": [
    "def LCS_result(data):\n",
    "    df_result = pd.DataFrame(data.items(), columns=['LCS', 'match'])\n",
    "    df_result['total_match'] = df_result['match'].sum()\n",
    "    df_result.sort_values(['match'], ascending=False, inplace=True, ignore_index=True)\n",
    "    return df_result"
   ]
  },
  {
   "cell_type": "code",
   "execution_count": 31,
   "metadata": {},
   "outputs": [
    {
     "data": {
      "text/html": [
       "<div>\n",
       "<style scoped>\n",
       "    .dataframe tbody tr th:only-of-type {\n",
       "        vertical-align: middle;\n",
       "    }\n",
       "\n",
       "    .dataframe tbody tr th {\n",
       "        vertical-align: top;\n",
       "    }\n",
       "\n",
       "    .dataframe thead th {\n",
       "        text-align: right;\n",
       "    }\n",
       "</style>\n",
       "<table border=\"1\" class=\"dataframe\">\n",
       "  <thead>\n",
       "    <tr style=\"text-align: right;\">\n",
       "      <th></th>\n",
       "      <th>LCS</th>\n",
       "      <th>match</th>\n",
       "      <th>total_match</th>\n",
       "    </tr>\n",
       "  </thead>\n",
       "  <tbody>\n",
       "    <tr>\n",
       "      <th>0</th>\n",
       "      <td>});}}()'_();}!=</td>\n",
       "      <td>465</td>\n",
       "      <td>1487</td>\n",
       "    </tr>\n",
       "    <tr>\n",
       "      <th>1</th>\n",
       "      <td>สถานบันเทิงผับคาราโอเกะ</td>\n",
       "      <td>115</td>\n",
       "      <td>1487</td>\n",
       "    </tr>\n",
       "    <tr>\n",
       "      <th>2</th>\n",
       "      <td>ครอบจักรวาลUniversalPrevention</td>\n",
       "      <td>50</td>\n",
       "      <td>1487</td>\n",
       "    </tr>\n",
       "    <tr>\n",
       "      <th>3</th>\n",
       "      <td>COPกลาสว์</td>\n",
       "      <td>15</td>\n",
       "      <td>1487</td>\n",
       "    </tr>\n",
       "    <tr>\n",
       "      <th>4</th>\n",
       "      <td>ลุตย์มรณภาพบันไดกุฏิข้อมือของมีคมลูกวัด</td>\n",
       "      <td>14</td>\n",
       "      <td>1487</td>\n",
       "    </tr>\n",
       "    <tr>\n",
       "      <th>5</th>\n",
       "      <td>มรณภาพบันไดกุฏิข้อมือของมีคมลูกวัดทวงหนี้ลุ</td>\n",
       "      <td>13</td>\n",
       "      <td>1487</td>\n",
       "    </tr>\n",
       "    <tr>\n",
       "      <th>6</th>\n",
       "      <td>วุธศิลปอาชา</td>\n",
       "      <td>13</td>\n",
       "      <td>1487</td>\n",
       "    </tr>\n",
       "    <tr>\n",
       "      <th>7</th>\n",
       "      <td>จ้างแรงงานเข้าทำงานส่วนรวมเจ้าของกิจการเห็นแก่...</td>\n",
       "      <td>13</td>\n",
       "      <td>1487</td>\n",
       "    </tr>\n",
       "    <tr>\n",
       "      <th>8</th>\n",
       "      <td>ซีรีส์SquidGame</td>\n",
       "      <td>12</td>\n",
       "      <td>1487</td>\n",
       "    </tr>\n",
       "    <tr>\n",
       "      <th>9</th>\n",
       "      <td>ทอท.(ท00.01การปรับพื้นทาสีตีเส้นสะดวกสบายลานจอดรถ</td>\n",
       "      <td>10</td>\n",
       "      <td>1487</td>\n",
       "    </tr>\n",
       "  </tbody>\n",
       "</table>\n",
       "</div>"
      ],
      "text/plain": [
       "                                                 LCS  match  total_match\n",
       "0                                    });}}()'_();}!=    465         1487\n",
       "1                            สถานบันเทิงผับคาราโอเกะ    115         1487\n",
       "2                     ครอบจักรวาลUniversalPrevention     50         1487\n",
       "3                                          COPกลาสว์     15         1487\n",
       "4            ลุตย์มรณภาพบันไดกุฏิข้อมือของมีคมลูกวัด     14         1487\n",
       "5        มรณภาพบันไดกุฏิข้อมือของมีคมลูกวัดทวงหนี้ลุ     13         1487\n",
       "6                                        วุธศิลปอาชา     13         1487\n",
       "7  จ้างแรงงานเข้าทำงานส่วนรวมเจ้าของกิจการเห็นแก่...     13         1487\n",
       "8                                    ซีรีส์SquidGame     12         1487\n",
       "9  ทอท.(ท00.01การปรับพื้นทาสีตีเส้นสะดวกสบายลานจอดรถ     10         1487"
      ]
     },
     "execution_count": 31,
     "metadata": {},
     "output_type": "execute_result"
    }
   ],
   "source": [
    "result_newmm = LCS_result(lcs_newmm)\n",
    "result_newmm[:10]"
   ]
  },
  {
   "cell_type": "code",
   "execution_count": 32,
   "metadata": {},
   "outputs": [],
   "source": [
    "result_newmm.to_csv(f\"../assets/Result/newmm/{file_name}.csv\",index = False)"
   ]
  },
  {
   "cell_type": "code",
   "execution_count": 33,
   "metadata": {},
   "outputs": [
    {
     "data": {
      "text/html": [
       "<div>\n",
       "<style scoped>\n",
       "    .dataframe tbody tr th:only-of-type {\n",
       "        vertical-align: middle;\n",
       "    }\n",
       "\n",
       "    .dataframe tbody tr th {\n",
       "        vertical-align: top;\n",
       "    }\n",
       "\n",
       "    .dataframe thead th {\n",
       "        text-align: right;\n",
       "    }\n",
       "</style>\n",
       "<table border=\"1\" class=\"dataframe\">\n",
       "  <thead>\n",
       "    <tr style=\"text-align: right;\">\n",
       "      <th></th>\n",
       "      <th>LCS</th>\n",
       "      <th>match</th>\n",
       "      <th>total_match</th>\n",
       "    </tr>\n",
       "  </thead>\n",
       "  <tbody>\n",
       "    <tr>\n",
       "      <th>0</th>\n",
       "      <td>://lin.ee/fRsq0ip'isMobile())(shareUrlblank')....</td>\n",
       "      <td>465</td>\n",
       "      <td>1476</td>\n",
       "    </tr>\n",
       "    <tr>\n",
       "      <th>1</th>\n",
       "      <td>ผับบาร์คาราโอเกะ</td>\n",
       "      <td>116</td>\n",
       "      <td>1476</td>\n",
       "    </tr>\n",
       "    <tr>\n",
       "      <th>2</th>\n",
       "      <td>ครอบUniversalPrevention</td>\n",
       "      <td>64</td>\n",
       "      <td>1476</td>\n",
       "    </tr>\n",
       "    <tr>\n",
       "      <th>3</th>\n",
       "      <td>if(event_actiongtaglabelhttps://www.pptvhd36.c...</td>\n",
       "      <td>22</td>\n",
       "      <td>1476</td>\n",
       "    </tr>\n",
       "    <tr>\n",
       "      <th>4</th>\n",
       "      <td>displayblockwidthbannerdisplayblockwidthbanner_</td>\n",
       "      <td>18</td>\n",
       "      <td>1476</td>\n",
       "    </tr>\n",
       "    <tr>\n",
       "      <th>5</th>\n",
       "      <td>119974www.คนละครึ่งg-Wallet</td>\n",
       "      <td>15</td>\n",
       "      <td>1476</td>\n",
       "    </tr>\n",
       "    <tr>\n",
       "      <th>6</th>\n",
       "      <td>COVID-FreeSetting</td>\n",
       "      <td>14</td>\n",
       "      <td>1476</td>\n",
       "    </tr>\n",
       "    <tr>\n",
       "      <th>7</th>\n",
       "      <td>เถื่อนนายหน้าที่นำพานำพาหลบซ่อนส่วยกักขังหน่วง...</td>\n",
       "      <td>13</td>\n",
       "      <td>1476</td>\n",
       "    </tr>\n",
       "    <tr>\n",
       "      <th>8</th>\n",
       "      <td>นางสาวปนัสยาสิทธิจิรวัฒนกุลรุ้ง</td>\n",
       "      <td>12</td>\n",
       "      <td>1476</td>\n",
       "    </tr>\n",
       "    <tr>\n",
       "      <th>9</th>\n",
       "      <td>พระวัดป่าภูปอต.นาตาลอ.ท่าคันโทมรณภาพกุฏิลูกวัด...</td>\n",
       "      <td>11</td>\n",
       "      <td>1476</td>\n",
       "    </tr>\n",
       "  </tbody>\n",
       "</table>\n",
       "</div>"
      ],
      "text/plain": [
       "                                                 LCS  match  total_match\n",
       "0  ://lin.ee/fRsq0ip'isMobile())(shareUrlblank')....    465         1476\n",
       "1                                   ผับบาร์คาราโอเกะ    116         1476\n",
       "2                            ครอบUniversalPrevention     64         1476\n",
       "3  if(event_actiongtaglabelhttps://www.pptvhd36.c...     22         1476\n",
       "4    displayblockwidthbannerdisplayblockwidthbanner_     18         1476\n",
       "5                        119974www.คนละครึ่งg-Wallet     15         1476\n",
       "6                                  COVID-FreeSetting     14         1476\n",
       "7  เถื่อนนายหน้าที่นำพานำพาหลบซ่อนส่วยกักขังหน่วง...     13         1476\n",
       "8                    นางสาวปนัสยาสิทธิจิรวัฒนกุลรุ้ง     12         1476\n",
       "9  พระวัดป่าภูปอต.นาตาลอ.ท่าคันโทมรณภาพกุฏิลูกวัด...     11         1476"
      ]
     },
     "execution_count": 33,
     "metadata": {},
     "output_type": "execute_result"
    }
   ],
   "source": [
    "result_atta = LCS_result(lcs_atta)\n",
    "result_atta[:10]"
   ]
  },
  {
   "cell_type": "code",
   "execution_count": 34,
   "metadata": {},
   "outputs": [],
   "source": [
    "result_atta.to_csv(f\"../assets/Result/attacut/{file_name}.csv\",index = False)"
   ]
  },
  {
   "cell_type": "code",
   "execution_count": 68,
   "metadata": {},
   "outputs": [
    {
     "data": {
      "text/html": [
       "<div>\n",
       "<style scoped>\n",
       "    .dataframe tbody tr th:only-of-type {\n",
       "        vertical-align: middle;\n",
       "    }\n",
       "\n",
       "    .dataframe tbody tr th {\n",
       "        vertical-align: top;\n",
       "    }\n",
       "\n",
       "    .dataframe thead th {\n",
       "        text-align: right;\n",
       "    }\n",
       "</style>\n",
       "<table border=\"1\" class=\"dataframe\">\n",
       "  <thead>\n",
       "    <tr style=\"text-align: right;\">\n",
       "      <th></th>\n",
       "      <th>LCS</th>\n",
       "      <th>match</th>\n",
       "      <th>total_match</th>\n",
       "    </tr>\n",
       "  </thead>\n",
       "  <tbody>\n",
       "    <tr>\n",
       "      <th>0</th>\n",
       "      <td>กระทงกระทงกระทง</td>\n",
       "      <td>629</td>\n",
       "      <td>2237</td>\n",
       "    </tr>\n",
       "    <tr>\n",
       "      <th>1</th>\n",
       "      <td>พล.อ.สุพจน์มาลานิยมสภาความมั่นคงแห่งชาติสมช.</td>\n",
       "      <td>86</td>\n",
       "      <td>2237</td>\n",
       "    </tr>\n",
       "    <tr>\n",
       "      <th>2</th>\n",
       "      <td>กระทงเทศกาลลอยกระทง</td>\n",
       "      <td>58</td>\n",
       "      <td>2237</td>\n",
       "    </tr>\n",
       "    <tr>\n",
       "      <th>3</th>\n",
       "      <td>เทศกาลลอยกระทงกระทง</td>\n",
       "      <td>37</td>\n",
       "      <td>2237</td>\n",
       "    </tr>\n",
       "    <tr>\n",
       "      <th>4</th>\n",
       "      <td>E0%B98%A79A%E099%E0%4%E0%B87/</td>\n",
       "      <td>36</td>\n",
       "      <td>2237</td>\n",
       "    </tr>\n",
       "    <tr>\n",
       "      <th>5</th>\n",
       "      <td>กระทงกระทงกระทงกระทง</td>\n",
       "      <td>29</td>\n",
       "      <td>2237</td>\n",
       "    </tr>\n",
       "    <tr>\n",
       "      <th>6</th>\n",
       "      <td>https://www.pptvhd36.com/news/%E0%8%A8%E0%B8%A...</td>\n",
       "      <td>28</td>\n",
       "      <td>2237</td>\n",
       "    </tr>\n",
       "    <tr>\n",
       "      <th>7</th>\n",
       "      <td>กระทงกระทงปลอดโรค</td>\n",
       "      <td>23</td>\n",
       "      <td>2237</td>\n",
       "    </tr>\n",
       "    <tr>\n",
       "      <th>8</th>\n",
       "      <td>CREDITPHOTOprotected</td>\n",
       "      <td>21</td>\n",
       "      <td>2237</td>\n",
       "    </tr>\n",
       "    <tr>\n",
       "      <th>9</th>\n",
       "      <td>https://www.pptvhd36.com/news/%E0%B8%8%A3E0%B9...</td>\n",
       "      <td>15</td>\n",
       "      <td>2237</td>\n",
       "    </tr>\n",
       "  </tbody>\n",
       "</table>\n",
       "</div>"
      ],
      "text/plain": [
       "                                                 LCS  match  total_match\n",
       "0                                    กระทงกระทงกระทง    629         2237\n",
       "1       พล.อ.สุพจน์มาลานิยมสภาความมั่นคงแห่งชาติสมช.     86         2237\n",
       "2                                กระทงเทศกาลลอยกระทง     58         2237\n",
       "3                                เทศกาลลอยกระทงกระทง     37         2237\n",
       "4                      E0%B98%A79A%E099%E0%4%E0%B87/     36         2237\n",
       "5                               กระทงกระทงกระทงกระทง     29         2237\n",
       "6  https://www.pptvhd36.com/news/%E0%8%A8%E0%B8%A...     28         2237\n",
       "7                                  กระทงกระทงปลอดโรค     23         2237\n",
       "8                               CREDITPHOTOprotected     21         2237\n",
       "9  https://www.pptvhd36.com/news/%E0%B8%8%A3E0%B9...     15         2237"
      ]
     },
     "execution_count": 68,
     "metadata": {},
     "output_type": "execute_result"
    }
   ],
   "source": [
    "df = pd.read_csv(r\"E:\\work\\virtualenv\\project-infoquest\\TTKDON-Mark-2\\assets\\Result\\attacut\\2021_11_19.csv\")\n",
    "df[:10]"
   ]
  },
  {
   "cell_type": "code",
   "execution_count": 70,
   "metadata": {},
   "outputs": [
    {
     "data": {
      "text/plain": [
       "'https://www.pptvhd36.com/news/%E0%B8%8%A3E0%B9%B8%A1AD%E0%B8%87/'"
      ]
     },
     "execution_count": 70,
     "metadata": {},
     "output_type": "execute_result"
    }
   ],
   "source": [
    "df[\"LCS\"].iloc[9]"
   ]
  },
  {
   "cell_type": "code",
   "execution_count": 5,
   "metadata": {},
   "outputs": [
    {
     "name": "stdout",
     "output_type": "stream",
     "text": [
      "2021_10_01\n"
     ]
    },
    {
     "name": "stderr",
     "output_type": "stream",
     "text": [
      "100%|██████████| 1196/1196 [02:40<00:00,  7.46it/s]\n"
     ]
    },
    {
     "name": "stdout",
     "output_type": "stream",
     "text": [
      "new : 1196\n"
     ]
    },
    {
     "name": "stderr",
     "output_type": "stream",
     "text": [
      "100%|██████████| 1195/1195 [00:20<00:00, 57.80it/s] \n"
     ]
    },
    {
     "name": "stdout",
     "output_type": "stream",
     "text": [
      "2021_10_02\n"
     ]
    },
    {
     "name": "stderr",
     "output_type": "stream",
     "text": [
      "100%|██████████| 762/762 [01:32<00:00,  8.28it/s]\n"
     ]
    },
    {
     "name": "stdout",
     "output_type": "stream",
     "text": [
      "new : 762\n"
     ]
    },
    {
     "name": "stderr",
     "output_type": "stream",
     "text": [
      "100%|██████████| 761/761 [00:06<00:00, 116.19it/s]\n"
     ]
    },
    {
     "name": "stdout",
     "output_type": "stream",
     "text": [
      "2021_10_03\n"
     ]
    },
    {
     "name": "stderr",
     "output_type": "stream",
     "text": [
      "100%|██████████| 775/775 [01:37<00:00,  7.91it/s]\n"
     ]
    },
    {
     "name": "stdout",
     "output_type": "stream",
     "text": [
      "new : 775\n"
     ]
    },
    {
     "name": "stderr",
     "output_type": "stream",
     "text": [
      "100%|██████████| 774/774 [00:07<00:00, 106.58it/s]\n"
     ]
    },
    {
     "name": "stdout",
     "output_type": "stream",
     "text": [
      "2021_10_04\n"
     ]
    },
    {
     "name": "stderr",
     "output_type": "stream",
     "text": [
      "100%|██████████| 1125/1125 [02:35<00:00,  7.25it/s]\n"
     ]
    },
    {
     "name": "stdout",
     "output_type": "stream",
     "text": [
      "new : 1125\n"
     ]
    },
    {
     "name": "stderr",
     "output_type": "stream",
     "text": [
      "100%|██████████| 1124/1124 [00:20<00:00, 55.34it/s] \n"
     ]
    },
    {
     "name": "stdout",
     "output_type": "stream",
     "text": [
      "2021_10_05\n"
     ]
    },
    {
     "name": "stderr",
     "output_type": "stream",
     "text": [
      "100%|██████████| 1196/1196 [02:23<00:00,  8.32it/s]\n"
     ]
    },
    {
     "name": "stdout",
     "output_type": "stream",
     "text": [
      "new : 1196\n"
     ]
    },
    {
     "name": "stderr",
     "output_type": "stream",
     "text": [
      "100%|██████████| 1195/1195 [00:17<00:00, 67.49it/s] \n"
     ]
    },
    {
     "name": "stdout",
     "output_type": "stream",
     "text": [
      "2021_10_06\n"
     ]
    },
    {
     "name": "stderr",
     "output_type": "stream",
     "text": [
      "100%|██████████| 1200/1200 [02:25<00:00,  8.27it/s]\n"
     ]
    },
    {
     "name": "stdout",
     "output_type": "stream",
     "text": [
      "new : 1200\n"
     ]
    },
    {
     "name": "stderr",
     "output_type": "stream",
     "text": [
      "100%|██████████| 1199/1199 [00:19<00:00, 60.85it/s] \n"
     ]
    },
    {
     "name": "stdout",
     "output_type": "stream",
     "text": [
      "2021_10_07\n"
     ]
    },
    {
     "name": "stderr",
     "output_type": "stream",
     "text": [
      "100%|██████████| 1237/1237 [02:29<00:00,  8.25it/s]\n"
     ]
    },
    {
     "name": "stdout",
     "output_type": "stream",
     "text": [
      "new : 1237\n"
     ]
    },
    {
     "name": "stderr",
     "output_type": "stream",
     "text": [
      "100%|██████████| 1236/1236 [00:19<00:00, 63.46it/s] \n"
     ]
    },
    {
     "name": "stdout",
     "output_type": "stream",
     "text": [
      "2021_10_08\n"
     ]
    },
    {
     "name": "stderr",
     "output_type": "stream",
     "text": [
      "100%|██████████| 1211/1211 [02:29<00:00,  8.12it/s]\n"
     ]
    },
    {
     "name": "stdout",
     "output_type": "stream",
     "text": [
      "new : 1211\n"
     ]
    },
    {
     "name": "stderr",
     "output_type": "stream",
     "text": [
      "100%|██████████| 1210/1210 [00:20<00:00, 60.19it/s] \n"
     ]
    },
    {
     "name": "stdout",
     "output_type": "stream",
     "text": [
      "2021_10_09\n"
     ]
    },
    {
     "name": "stderr",
     "output_type": "stream",
     "text": [
      "100%|██████████| 760/760 [01:29<00:00,  8.51it/s]\n"
     ]
    },
    {
     "name": "stdout",
     "output_type": "stream",
     "text": [
      "new : 760\n"
     ]
    },
    {
     "name": "stderr",
     "output_type": "stream",
     "text": [
      "100%|██████████| 759/759 [00:07<00:00, 102.86it/s]\n"
     ]
    },
    {
     "name": "stdout",
     "output_type": "stream",
     "text": [
      "2021_10_10\n"
     ]
    },
    {
     "name": "stderr",
     "output_type": "stream",
     "text": [
      "100%|██████████| 779/779 [01:28<00:00,  8.76it/s]\n"
     ]
    },
    {
     "name": "stdout",
     "output_type": "stream",
     "text": [
      "new : 779\n"
     ]
    },
    {
     "name": "stderr",
     "output_type": "stream",
     "text": [
      "100%|██████████| 778/778 [00:07<00:00, 108.76it/s]\n"
     ]
    },
    {
     "name": "stdout",
     "output_type": "stream",
     "text": [
      "2021_10_11\n"
     ]
    },
    {
     "name": "stderr",
     "output_type": "stream",
     "text": [
      "100%|██████████| 1186/1186 [02:28<00:00,  7.99it/s]\n"
     ]
    },
    {
     "name": "stdout",
     "output_type": "stream",
     "text": [
      "new : 1186\n"
     ]
    },
    {
     "name": "stderr",
     "output_type": "stream",
     "text": [
      "100%|██████████| 1185/1185 [00:19<00:00, 59.45it/s] \n"
     ]
    },
    {
     "name": "stdout",
     "output_type": "stream",
     "text": [
      "2021_10_12\n"
     ]
    },
    {
     "name": "stderr",
     "output_type": "stream",
     "text": [
      "100%|██████████| 1263/1263 [02:34<00:00,  8.17it/s]\n"
     ]
    },
    {
     "name": "stdout",
     "output_type": "stream",
     "text": [
      "new : 1263\n"
     ]
    },
    {
     "name": "stderr",
     "output_type": "stream",
     "text": [
      "100%|██████████| 1262/1262 [00:19<00:00, 63.33it/s] \n"
     ]
    },
    {
     "name": "stdout",
     "output_type": "stream",
     "text": [
      "2021_10_13\n"
     ]
    },
    {
     "name": "stderr",
     "output_type": "stream",
     "text": [
      "100%|██████████| 1023/1023 [02:04<00:00,  8.22it/s]\n"
     ]
    },
    {
     "name": "stdout",
     "output_type": "stream",
     "text": [
      "new : 1023\n"
     ]
    },
    {
     "name": "stderr",
     "output_type": "stream",
     "text": [
      "100%|██████████| 1022/1022 [00:15<00:00, 67.55it/s]\n"
     ]
    },
    {
     "name": "stdout",
     "output_type": "stream",
     "text": [
      "2021_10_14\n"
     ]
    },
    {
     "name": "stderr",
     "output_type": "stream",
     "text": [
      "100%|██████████| 1173/1173 [02:25<00:00,  8.09it/s]\n"
     ]
    },
    {
     "name": "stdout",
     "output_type": "stream",
     "text": [
      "new : 1173\n"
     ]
    },
    {
     "name": "stderr",
     "output_type": "stream",
     "text": [
      "100%|██████████| 1172/1172 [00:18<00:00, 61.92it/s] \n"
     ]
    },
    {
     "name": "stdout",
     "output_type": "stream",
     "text": [
      "2021_10_15\n"
     ]
    },
    {
     "name": "stderr",
     "output_type": "stream",
     "text": [
      "100%|██████████| 1165/1165 [02:27<00:00,  7.91it/s]\n"
     ]
    },
    {
     "name": "stdout",
     "output_type": "stream",
     "text": [
      "new : 1165\n"
     ]
    },
    {
     "name": "stderr",
     "output_type": "stream",
     "text": [
      "100%|██████████| 1164/1164 [00:19<00:00, 59.85it/s] \n"
     ]
    },
    {
     "name": "stdout",
     "output_type": "stream",
     "text": [
      "2021_10_16\n"
     ]
    },
    {
     "name": "stderr",
     "output_type": "stream",
     "text": [
      "100%|██████████| 827/827 [01:43<00:00,  8.03it/s]\n"
     ]
    },
    {
     "name": "stdout",
     "output_type": "stream",
     "text": [
      "new : 827\n"
     ]
    },
    {
     "name": "stderr",
     "output_type": "stream",
     "text": [
      "100%|██████████| 826/826 [00:09<00:00, 87.56it/s] \n"
     ]
    },
    {
     "name": "stdout",
     "output_type": "stream",
     "text": [
      "2021_10_17\n"
     ]
    },
    {
     "name": "stderr",
     "output_type": "stream",
     "text": [
      "100%|██████████| 836/836 [01:37<00:00,  8.56it/s]\n"
     ]
    },
    {
     "name": "stdout",
     "output_type": "stream",
     "text": [
      "new : 836\n"
     ]
    },
    {
     "name": "stderr",
     "output_type": "stream",
     "text": [
      "100%|██████████| 835/835 [00:08<00:00, 94.21it/s] \n"
     ]
    },
    {
     "name": "stdout",
     "output_type": "stream",
     "text": [
      "2021_10_18\n"
     ]
    },
    {
     "name": "stderr",
     "output_type": "stream",
     "text": [
      "100%|██████████| 1189/1189 [02:22<00:00,  8.35it/s]\n"
     ]
    },
    {
     "name": "stdout",
     "output_type": "stream",
     "text": [
      "new : 1189\n"
     ]
    },
    {
     "name": "stderr",
     "output_type": "stream",
     "text": [
      "100%|██████████| 1188/1188 [00:18<00:00, 64.29it/s] \n"
     ]
    },
    {
     "name": "stdout",
     "output_type": "stream",
     "text": [
      "2021_10_19\n"
     ]
    },
    {
     "name": "stderr",
     "output_type": "stream",
     "text": [
      "100%|██████████| 1209/1209 [02:35<00:00,  7.80it/s]\n"
     ]
    },
    {
     "name": "stdout",
     "output_type": "stream",
     "text": [
      "new : 1209\n"
     ]
    },
    {
     "name": "stderr",
     "output_type": "stream",
     "text": [
      "100%|██████████| 1208/1208 [00:20<00:00, 57.64it/s] \n"
     ]
    },
    {
     "name": "stdout",
     "output_type": "stream",
     "text": [
      "2021_10_20\n"
     ]
    },
    {
     "name": "stderr",
     "output_type": "stream",
     "text": [
      "100%|██████████| 1267/1267 [02:36<00:00,  8.11it/s]\n"
     ]
    },
    {
     "name": "stdout",
     "output_type": "stream",
     "text": [
      "new : 1267\n"
     ]
    },
    {
     "name": "stderr",
     "output_type": "stream",
     "text": [
      "100%|██████████| 1266/1266 [00:22<00:00, 56.83it/s] \n"
     ]
    },
    {
     "name": "stdout",
     "output_type": "stream",
     "text": [
      "2021_10_21\n"
     ]
    },
    {
     "name": "stderr",
     "output_type": "stream",
     "text": [
      "100%|██████████| 1149/1149 [02:18<00:00,  8.32it/s]\n"
     ]
    },
    {
     "name": "stdout",
     "output_type": "stream",
     "text": [
      "new : 1149\n"
     ]
    },
    {
     "name": "stderr",
     "output_type": "stream",
     "text": [
      "100%|██████████| 1148/1148 [00:17<00:00, 66.70it/s] \n"
     ]
    },
    {
     "name": "stdout",
     "output_type": "stream",
     "text": [
      "2021_10_22\n"
     ]
    },
    {
     "name": "stderr",
     "output_type": "stream",
     "text": [
      "100%|██████████| 952/952 [01:59<00:00,  7.99it/s]\n"
     ]
    },
    {
     "name": "stdout",
     "output_type": "stream",
     "text": [
      "new : 952\n"
     ]
    },
    {
     "name": "stderr",
     "output_type": "stream",
     "text": [
      "100%|██████████| 951/951 [00:14<00:00, 63.83it/s] \n"
     ]
    },
    {
     "name": "stdout",
     "output_type": "stream",
     "text": [
      "2021_10_23\n"
     ]
    },
    {
     "name": "stderr",
     "output_type": "stream",
     "text": [
      "100%|██████████| 748/748 [01:23<00:00,  8.91it/s]\n"
     ]
    },
    {
     "name": "stdout",
     "output_type": "stream",
     "text": [
      "new : 748\n"
     ]
    },
    {
     "name": "stderr",
     "output_type": "stream",
     "text": [
      "100%|██████████| 747/747 [00:06<00:00, 117.06it/s]\n"
     ]
    },
    {
     "name": "stdout",
     "output_type": "stream",
     "text": [
      "2021_10_24\n"
     ]
    },
    {
     "name": "stderr",
     "output_type": "stream",
     "text": [
      "100%|██████████| 741/741 [01:29<00:00,  8.29it/s]\n"
     ]
    },
    {
     "name": "stdout",
     "output_type": "stream",
     "text": [
      "new : 741\n"
     ]
    },
    {
     "name": "stderr",
     "output_type": "stream",
     "text": [
      "100%|██████████| 740/740 [00:07<00:00, 98.32it/s] \n"
     ]
    },
    {
     "name": "stdout",
     "output_type": "stream",
     "text": [
      "2021_10_25\n"
     ]
    },
    {
     "name": "stderr",
     "output_type": "stream",
     "text": [
      "100%|██████████| 1051/1051 [02:08<00:00,  8.21it/s]\n"
     ]
    },
    {
     "name": "stdout",
     "output_type": "stream",
     "text": [
      "new : 1051\n"
     ]
    },
    {
     "name": "stderr",
     "output_type": "stream",
     "text": [
      "100%|██████████| 1050/1050 [00:15<00:00, 67.96it/s]\n"
     ]
    },
    {
     "name": "stdout",
     "output_type": "stream",
     "text": [
      "2021_10_26\n"
     ]
    },
    {
     "name": "stderr",
     "output_type": "stream",
     "text": [
      "100%|██████████| 1187/1187 [02:29<00:00,  7.92it/s]\n"
     ]
    },
    {
     "name": "stdout",
     "output_type": "stream",
     "text": [
      "new : 1187\n"
     ]
    },
    {
     "name": "stderr",
     "output_type": "stream",
     "text": [
      "100%|██████████| 1186/1186 [00:19<00:00, 61.55it/s] \n"
     ]
    },
    {
     "name": "stdout",
     "output_type": "stream",
     "text": [
      "2021_10_27\n"
     ]
    },
    {
     "name": "stderr",
     "output_type": "stream",
     "text": [
      "100%|██████████| 1174/1174 [02:25<00:00,  8.08it/s]\n"
     ]
    },
    {
     "name": "stdout",
     "output_type": "stream",
     "text": [
      "new : 1174\n"
     ]
    },
    {
     "name": "stderr",
     "output_type": "stream",
     "text": [
      "100%|██████████| 1173/1173 [00:17<00:00, 65.76it/s] \n"
     ]
    },
    {
     "name": "stdout",
     "output_type": "stream",
     "text": [
      "2021_10_28\n"
     ]
    },
    {
     "name": "stderr",
     "output_type": "stream",
     "text": [
      "100%|██████████| 1256/1256 [02:42<00:00,  7.75it/s]\n"
     ]
    },
    {
     "name": "stdout",
     "output_type": "stream",
     "text": [
      "new : 1256\n"
     ]
    },
    {
     "name": "stderr",
     "output_type": "stream",
     "text": [
      "100%|██████████| 1255/1255 [00:21<00:00, 57.46it/s] \n"
     ]
    },
    {
     "name": "stdout",
     "output_type": "stream",
     "text": [
      "2021_10_29\n"
     ]
    },
    {
     "name": "stderr",
     "output_type": "stream",
     "text": [
      "100%|██████████| 1190/1190 [02:32<00:00,  7.80it/s]\n"
     ]
    },
    {
     "name": "stdout",
     "output_type": "stream",
     "text": [
      "new : 1190\n"
     ]
    },
    {
     "name": "stderr",
     "output_type": "stream",
     "text": [
      "100%|██████████| 1189/1189 [00:20<00:00, 58.84it/s] \n"
     ]
    },
    {
     "name": "stdout",
     "output_type": "stream",
     "text": [
      "2021_10_30\n"
     ]
    },
    {
     "name": "stderr",
     "output_type": "stream",
     "text": [
      "100%|██████████| 808/808 [01:40<00:00,  8.03it/s]\n"
     ]
    },
    {
     "name": "stdout",
     "output_type": "stream",
     "text": [
      "new : 808\n"
     ]
    },
    {
     "name": "stderr",
     "output_type": "stream",
     "text": [
      "100%|██████████| 807/807 [00:09<00:00, 86.66it/s] \n"
     ]
    }
   ],
   "source": [
    "for i in range(1,32):\n",
    "    x = WB(\"attacut_stopword_m09_th30\",\"newmm_stopword_m09_th30\")\n",
    "    print(f'2021_10_{i:02}')\n",
    "    df = pd.read_csv(f\"../assets/Split_Date/2021_10_{i:02}.csv\")\n",
    "    df.drop_duplicates(inplace=True,ignore_index=True)\n",
    "    x.word_break(df)\n",
    "    print(f'new : {len(x.attacut_WB)}')\n",
    "    lcs_atta, lcs_newmm = LCS(x.attacut_WB,x.newmm_WB)\n",
    "    result_newmm = LCS_result(lcs_newmm)\n",
    "    result_newmm.to_csv(f\"../assets/Result/newmm/2021_10_{i:02}.csv\",index = False)\n",
    "    result_atta = LCS_result(lcs_atta)\n",
    "    result_atta.to_csv(f\"../assets/Result/attacut/2021_10_{i:02}.csv\",index = False)"
   ]
  }
 ],
 "metadata": {
  "interpreter": {
   "hash": "b825cfde57f4fe2b066dee46d870faf19522c56f6a6e540eacd30e52a1215036"
  },
  "kernelspec": {
   "display_name": "Python 3.8.5 64-bit ('base': conda)",
   "language": "python",
   "name": "python3"
  },
  "language_info": {
   "codemirror_mode": {
    "name": "ipython",
    "version": 3
   },
   "file_extension": ".py",
   "mimetype": "text/x-python",
   "name": "python",
   "nbconvert_exporter": "python",
   "pygments_lexer": "ipython3",
   "version": "3.8.5"
  },
  "orig_nbformat": 4
 },
 "nbformat": 4,
 "nbformat_minor": 2
}
