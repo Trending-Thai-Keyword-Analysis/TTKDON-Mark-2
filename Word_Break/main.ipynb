{
 "cells": [
  {
   "cell_type": "markdown",
   "metadata": {},
   "source": [
    "# Word Break Notebook"
   ]
  },
  {
   "cell_type": "code",
   "execution_count": 6,
   "metadata": {},
   "outputs": [],
   "source": [
    "## PyThaiNLP\n",
    "import pandas as pd\n",
    "from pythainlp import word_tokenize as tokenize\n",
    "from pythainlp.util import *\n",
    "from tqdm.auto import tqdm\n",
    "tqdm.pandas()"
   ]
  },
  {
   "cell_type": "markdown",
   "metadata": {},
   "source": [
    "## Read DataFrame"
   ]
  },
  {
   "cell_type": "code",
   "execution_count": 126,
   "metadata": {},
   "outputs": [
    {
     "data": {
      "text/html": [
       "<div>\n",
       "<style scoped>\n",
       "    .dataframe tbody tr th:only-of-type {\n",
       "        vertical-align: middle;\n",
       "    }\n",
       "\n",
       "    .dataframe tbody tr th {\n",
       "        vertical-align: top;\n",
       "    }\n",
       "\n",
       "    .dataframe thead th {\n",
       "        text-align: right;\n",
       "    }\n",
       "</style>\n",
       "<table border=\"1\" class=\"dataframe\">\n",
       "  <thead>\n",
       "    <tr style=\"text-align: right;\">\n",
       "      <th></th>\n",
       "      <th>headline</th>\n",
       "      <th>story</th>\n",
       "      <th>category</th>\n",
       "      <th>date</th>\n",
       "      <th>url</th>\n",
       "    </tr>\n",
       "  </thead>\n",
       "  <tbody>\n",
       "    <tr>\n",
       "      <th>0</th>\n",
       "      <td>7 วิธีย้ายเข้าบ้านใหม่วันแรกทำยังไงให้เกิดสิริ...</td>\n",
       "      <td>เตรียมตัวย้ายเข้าบ้านใหม่ 7 วิธีขึ้นบ้านใหม่ ย...</td>\n",
       "      <td>ความเชื่อ</td>\n",
       "      <td>2021_10_20</td>\n",
       "      <td>https://www.thairath.co.th/news/2216146</td>\n",
       "    </tr>\n",
       "    <tr>\n",
       "      <th>1</th>\n",
       "      <td>น้ำมะพร้าว ดื่มแล้วสวย? ไข้ลด? สดชื่น? จริงแค่...</td>\n",
       "      <td>ในบรรดาเครื่องดื่มที่กำเนิดมาจากพืชพรรณธรรมชาต...</td>\n",
       "      <td>ไลฟ์</td>\n",
       "      <td>2021_10_20</td>\n",
       "      <td>https://www.thairath.co.th/news/2219422</td>\n",
       "    </tr>\n",
       "    <tr>\n",
       "      <th>2</th>\n",
       "      <td>ไทยยูเนี่ยน ส่งความห่วงใยให้ทุกคนดูแลตัวเอง เพ...</td>\n",
       "      <td>“สุขภาพที่ดี...จะเป็นภูมิต้านทานให้กับคุณ” เป็...</td>\n",
       "      <td>ไลฟ์</td>\n",
       "      <td>2021_10_20</td>\n",
       "      <td>https://www.thairath.co.th/news/2220160</td>\n",
       "    </tr>\n",
       "    <tr>\n",
       "      <th>3</th>\n",
       "      <td>แมวดีคือเหมียวที่ฉี่ในกระบะทราย! สัมผัสแรกแสบท...</td>\n",
       "      <td>การเปลี่ยนแปลงระบบขับเคลื่อนในวงการอุตสาหกรรมย...</td>\n",
       "      <td>ยานยนต์</td>\n",
       "      <td>2021_10_20</td>\n",
       "      <td>https://www.thairath.co.th/news/2221612</td>\n",
       "    </tr>\n",
       "    <tr>\n",
       "      <th>4</th>\n",
       "      <td>เปิดกล้องแล้ว มงกุฎกรรม “แอน-สิเรียม” สวยหวาน ...</td>\n",
       "      <td>หลังจากปล่อยภาพฟิตติ้งออกไปจนเป็นกระแสฮือฮา สำ...</td>\n",
       "      <td>ข่าวนิยาย</td>\n",
       "      <td>2021_10_20</td>\n",
       "      <td>https://www.thairath.co.th/news/2222155</td>\n",
       "    </tr>\n",
       "    <tr>\n",
       "      <th>...</th>\n",
       "      <td>...</td>\n",
       "      <td>...</td>\n",
       "      <td>...</td>\n",
       "      <td>...</td>\n",
       "      <td>...</td>\n",
       "    </tr>\n",
       "    <tr>\n",
       "      <th>1262</th>\n",
       "      <td>ตัดเชือกช่างทาสีคอนโด แจ้งข้อหาพยายามฆ่า ชี้หล...</td>\n",
       "      <td>กรณีผู้ใช้แอปพลิเคชันติ๊กต็อก (TikTok) @nice25...</td>\n",
       "      <td>ข่าวเด่น</td>\n",
       "      <td>2021_10_20</td>\n",
       "      <td>https://www.amarintv.com/news/detail/104001</td>\n",
       "    </tr>\n",
       "    <tr>\n",
       "      <th>1263</th>\n",
       "      <td>\"ยันตระ\" คัมแบ็กแสดงธรรม พส.ตบเท้าฉลองวันเกิด ...</td>\n",
       "      <td>กรณีประเด็นร้อนที่เกิดขึ้นบนโลกออนไลน์ หลังจาก...</td>\n",
       "      <td>Exclusive news</td>\n",
       "      <td>2021_10_20</td>\n",
       "      <td>https://www.amarintv.com/news/detail/104004</td>\n",
       "    </tr>\n",
       "    <tr>\n",
       "      <th>1264</th>\n",
       "      <td>เซ่น! คลัสเตอร์ภูทับเบิก สั่งปิดที่พักใกล้จุดช...</td>\n",
       "      <td>กรณีมีหญิงสาววัย 27 ปี ซึ่งภายหลังพบว่าเป็นผู้...</td>\n",
       "      <td>ข่าวเด่น</td>\n",
       "      <td>2021_10_20</td>\n",
       "      <td>https://www.amarintv.com/news/detail/104007</td>\n",
       "    </tr>\n",
       "    <tr>\n",
       "      <th>1265</th>\n",
       "      <td>แทบขาดใจ! สาวดิ่งสะพานจมหาย พ่อร่ำไห้ลมจับเพ้อ...</td>\n",
       "      <td>จากกรณีนางสาวชลธิชา หรือ แอม อายุ 25 ปี น้อยใจ...</td>\n",
       "      <td>Exclusive news</td>\n",
       "      <td>2021_10_20</td>\n",
       "      <td>https://www.amarintv.com/news/detail/104013</td>\n",
       "    </tr>\n",
       "    <tr>\n",
       "      <th>1266</th>\n",
       "      <td>เช็กเลย 21 ต.ค. วันหยุดราชการเดือนตุลาคม 2564 ...</td>\n",
       "      <td>ทั้งนี้ ไม่รวม 8 จังหวัดภาคตะวันออก คือ ฉะเชิง...</td>\n",
       "      <td>ข่าวเด่น</td>\n",
       "      <td>2021_10_20</td>\n",
       "      <td>https://www.amarintv.com/news/detail/104015</td>\n",
       "    </tr>\n",
       "  </tbody>\n",
       "</table>\n",
       "<p>1267 rows × 5 columns</p>\n",
       "</div>"
      ],
      "text/plain": [
       "                                               headline  \\\n",
       "0     7 วิธีย้ายเข้าบ้านใหม่วันแรกทำยังไงให้เกิดสิริ...   \n",
       "1     น้ำมะพร้าว ดื่มแล้วสวย? ไข้ลด? สดชื่น? จริงแค่...   \n",
       "2     ไทยยูเนี่ยน ส่งความห่วงใยให้ทุกคนดูแลตัวเอง เพ...   \n",
       "3     แมวดีคือเหมียวที่ฉี่ในกระบะทราย! สัมผัสแรกแสบท...   \n",
       "4     เปิดกล้องแล้ว มงกุฎกรรม “แอน-สิเรียม” สวยหวาน ...   \n",
       "...                                                 ...   \n",
       "1262  ตัดเชือกช่างทาสีคอนโด แจ้งข้อหาพยายามฆ่า ชี้หล...   \n",
       "1263  \"ยันตระ\" คัมแบ็กแสดงธรรม พส.ตบเท้าฉลองวันเกิด ...   \n",
       "1264  เซ่น! คลัสเตอร์ภูทับเบิก สั่งปิดที่พักใกล้จุดช...   \n",
       "1265  แทบขาดใจ! สาวดิ่งสะพานจมหาย พ่อร่ำไห้ลมจับเพ้อ...   \n",
       "1266  เช็กเลย 21 ต.ค. วันหยุดราชการเดือนตุลาคม 2564 ...   \n",
       "\n",
       "                                                  story        category  \\\n",
       "0     เตรียมตัวย้ายเข้าบ้านใหม่ 7 วิธีขึ้นบ้านใหม่ ย...       ความเชื่อ   \n",
       "1     ในบรรดาเครื่องดื่มที่กำเนิดมาจากพืชพรรณธรรมชาต...            ไลฟ์   \n",
       "2     “สุขภาพที่ดี...จะเป็นภูมิต้านทานให้กับคุณ” เป็...            ไลฟ์   \n",
       "3     การเปลี่ยนแปลงระบบขับเคลื่อนในวงการอุตสาหกรรมย...         ยานยนต์   \n",
       "4     หลังจากปล่อยภาพฟิตติ้งออกไปจนเป็นกระแสฮือฮา สำ...       ข่าวนิยาย   \n",
       "...                                                 ...             ...   \n",
       "1262  กรณีผู้ใช้แอปพลิเคชันติ๊กต็อก (TikTok) @nice25...        ข่าวเด่น   \n",
       "1263  กรณีประเด็นร้อนที่เกิดขึ้นบนโลกออนไลน์ หลังจาก...  Exclusive news   \n",
       "1264  กรณีมีหญิงสาววัย 27 ปี ซึ่งภายหลังพบว่าเป็นผู้...        ข่าวเด่น   \n",
       "1265  จากกรณีนางสาวชลธิชา หรือ แอม อายุ 25 ปี น้อยใจ...  Exclusive news   \n",
       "1266  ทั้งนี้ ไม่รวม 8 จังหวัดภาคตะวันออก คือ ฉะเชิง...        ข่าวเด่น   \n",
       "\n",
       "            date                                          url  \n",
       "0     2021_10_20      https://www.thairath.co.th/news/2216146  \n",
       "1     2021_10_20      https://www.thairath.co.th/news/2219422  \n",
       "2     2021_10_20      https://www.thairath.co.th/news/2220160  \n",
       "3     2021_10_20      https://www.thairath.co.th/news/2221612  \n",
       "4     2021_10_20      https://www.thairath.co.th/news/2222155  \n",
       "...          ...                                          ...  \n",
       "1262  2021_10_20  https://www.amarintv.com/news/detail/104001  \n",
       "1263  2021_10_20  https://www.amarintv.com/news/detail/104004  \n",
       "1264  2021_10_20  https://www.amarintv.com/news/detail/104007  \n",
       "1265  2021_10_20  https://www.amarintv.com/news/detail/104013  \n",
       "1266  2021_10_20  https://www.amarintv.com/news/detail/104015  \n",
       "\n",
       "[1267 rows x 5 columns]"
      ]
     },
     "execution_count": 126,
     "metadata": {},
     "output_type": "execute_result"
    }
   ],
   "source": [
    "df = pd.read_csv('../assets/Split_Date/2021_10_20.csv')\n",
    "df.drop_duplicates(inplace=True,ignore_index=True)\n",
    "df"
   ]
  },
  {
   "cell_type": "code",
   "execution_count": 127,
   "metadata": {},
   "outputs": [],
   "source": [
    "NEWMM = \"newmm\"\n",
    "ATTACUT = \"attacut\"\n",
    "list_column = df.columns.values.tolist()\n",
    "columnName = list_column[1]\n",
    "\n",
    "def word_break(news,engine):\n",
    "    segment = tokenize(news,keep_whitespace=False,engine=engine)\n",
    "    return segment"
   ]
  },
  {
   "cell_type": "markdown",
   "metadata": {},
   "source": [
    "## Word Break Example"
   ]
  },
  {
   "cell_type": "code",
   "execution_count": 128,
   "metadata": {},
   "outputs": [
    {
     "name": "stdout",
     "output_type": "stream",
     "text": [
      "เมื่อเวลา 07:00 น. วันที่ 20 ต.ค.64 ดร.ยุทธพล อังกินันทน์ ที่ปรึกษารัฐมนตรีว่าการกระทรวงทรัพยากรธรรมชาติและสิ่งแวดล้อม นายสมหวัง เรืองนิวัติศัย รองอธิบดีกรมอุทยานแห่งชาติ สัตว์ป่า และ พันธุ์พืช พร้อมคณะทำงาน การท่องเที่ยวแห่งประเทศไทย และชมรมผู้ประกอบการท่องเที่ยวเพชรบุรี ลงพื้นที่หน่วยพิทักษ์อุทยานแห่งชาติที่ กจ.19 เขาพะเนินทุ่ง รับฟังรายงานผลการเตรียมความพร้อมการเปิดแหล่งท่องเที่ยวเขาพะเนินทุ่ง พร้อมมอบนโยบายและแนวทางปฏิบัติแก่เจ้าหน้าที่ โดย จะเปิด”เขาพะเนินทุ่ง” ในวันที่ 1 พฤศจิกายน 2564 ให้นักท่องเที่ยวได้ท่องเที่ยว ชมทะเลหมอก และ ธรรมชาติที่สวยงาม ต่อไป หลังจากนั้น ออกเดินทางไปยังหน่วยพิทักษ์อุทยานแห่งชาติที่ กจ.4 บ้านกร่าง เพื่อมอบนโยบายพัฒนา พร้อมตรวจติดตามการติดตั้งป้ายมรดกโลก และติดตามสถานการณ์น้ำในเขื่อนแก่งกระจาน เตรียมความพร้อมป้องกันน้ำท่วมเมืองเพชรบุรี\n",
      "------------------------------------------------------------------------------------------------------------------------\n",
      "ATTACUT : เมื่อ | เวลา | 07 | : | 00 | น. | วัน | ที่ | 20 | ต.ค.64 | ดร.ยุทธพล อังกินันทน์ | ที่ปรึกษา | รัฐมนตรี | ว่าการ | กระทรวงทรัพยากร | ธรรมชาติ | และ | สิ่ง | แวดล้อม | นายสมหวัง เรืองนิวัติศัย | รอง | อธิบดี | กรมอุทยานแห่ง | ชาติ | สัตว์ | ป่า | และ | พันธุ์ | พืช | พร้อม | คณะ | ทำ | งาน | การ | ท่องเที่ยวแห่งประเทศไทย | และ | ชมรม | ผู้ | ประกอบ | การ | ท่องเที่ยว | เพชรบุรี | ลง | พื้นที่ | หน่วยพิทักษ์ | อุทยานแห่ง | ชาติที่ | กจ.19 | เขา | พะเนิน | ทุ่ง | รับฟัง | รายงาน | ผล | การ | เตรียม | ความ | พร้อม | การ | เปิด | แหล่ง | ท่องเที่ยว | เขา | พะเนิน | ทุ่ง | พร้อม | มอบ | นโยบาย | และ | แนวทาง | ปฏิบัติ | แก่ | เจ้าหน้าที่ | โดย | จะ | เปิด” | เขา | พะเนิน | ทุ่ง | ” | ใน | วัน | ที่ | 1 | พฤศจิกายน | 2564 | ให้ | นัก | ท่องเที่ยว | ได้ | ท่องเที่ยว | ชม | ทะเลหมอก | และ | ธรรมชาติ | ที่ | สวยงาม | ต่อ | ไป | หลัง | จาก | นั้น | ออก | เดินทาง | ไป | ยัง | หน่วยพิทักษ์ | อุทยานแห่ง | ชาติ | ที่ | กจ | . | 4 | บ้านกร่าง | เพื่อ | มอบ | นโยบาย | พัฒนา | พร้อม | ตรวจ | ติดตาม | การ | ติดตั้งป้าย | มร | ดก | โลก | และ | ติดตาม | สถานการณ์ | น้ำ | ใน | เขื่อนแก่ง | กระจาน | เตรียม | ความ | พร้อม | ป้องกัน | น้ำ | ท่วม | เมืองเพชรบุรี\n",
      "------------------------------------------------------------------------------------------------------------------------\n",
      "NEWMM : เมื่อ | เวลา | 07 | : | 00 | น. | วันที่ | 20 | ต.ค. | 64 | ดร. | ยุทธ | พล | อัง | กิ | นันทน์ | ที่ปรึกษา | รัฐมนตรี | ว่าการ | กระทรวง | ทรัพยากรธรรมชาติ | และ | สิ่งแวดล้อม | นาย | สมหวัง | เรือง | นิ | วัติ | ศัย | รองอธิบดี | กรม | อุทยานแห่งชาติ | สัตว์ป่า | และ | พันธุ์พืช | พร้อม | คณะทำงาน | การท่องเที่ยวแห่งประเทศไทย | และ | ชมรม | ผู้ประกอบการ | ท่องเที่ยว | เพชรบุรี | ลง | พื้นที่ | หน่วย | พิทักษ์ | อุทยานแห่งชาติ | ที่ | ก | จ. | 19 | เขา | พะเนิน | ทุ่ง | รับฟัง | รายงาน | ผล | การ | เตรียม | ความพร้อม | การ | เปิด | แหล่งท่องเที่ยว | เขา | พะเนิน | ทุ่ง | พร้อม | มอบ | นโยบาย | และ | แนวทาง | ปฏิบัติ | แก่ | เจ้าหน้าที่ | โดย | จะ | เปิด | ” | เขา | พะเนิน | ทุ่ง | ” | ใน | วันที่ | 1 | พฤศจิกายน | 2564 | ให้ | นักท่องเที่ยว | ได้ | ท่องเที่ยว | ชม | ทะเล | หมอก | และ | ธรรมชาติ | ที่ | สวยงาม | ต่อไป | หลังจากนั้น | ออกเดินทาง | ไป | ยัง | หน่วย | พิทักษ์ | อุทยานแห่งชาติ | ที่ | ก | จ. | 4 | บ้าน | กร่าง | เพื่อ | มอบ | นโยบาย | พัฒนา | พร้อม | ตรวจ | ติดตาม | การ | ติดตั้ง | ป้าย | มรดก | โลก | และ | ติดตาม | สถานการณ์ | น้ำ | ใน | เขื่อน | แก่ง | กระจาน | เตรียม | ความพร้อม | ป้องกัน | น้ำท่วม | เมือง | เพชรบุรี\n"
     ]
    }
   ],
   "source": [
    "text = df[columnName].iloc[566]\n",
    "print(text)\n",
    "print(\"------------------------------------------------------------------------------------------------------------------------\")\n",
    "print(\"ATTACUT : \" + \" | \".join(word_break(text,ATTACUT)))\n",
    "print(\"------------------------------------------------------------------------------------------------------------------------\")\n",
    "print(\"NEWMM : \" + \" | \".join(word_break(text,NEWMM)))"
   ]
  },
  {
   "cell_type": "code",
   "execution_count": 129,
   "metadata": {},
   "outputs": [
    {
     "data": {
      "text/plain": [
       "['ก.', 'ก.ค.', 'ก.ต.', 'ก.ป.ส.', 'ก.พ.']"
      ]
     },
     "execution_count": 129,
     "metadata": {},
     "output_type": "execute_result"
    }
   ],
   "source": [
    "text_file = open(\"../assets/Dict/lexitron.txt\", \"r\",encoding=\"utf-8\")\n",
    "content = text_file.read()\n",
    "dict_lexitron = content.split(\"\\n\")\n",
    "text_file.close()\n",
    "dict_lexitron[:5]"
   ]
  },
  {
   "cell_type": "code",
   "execution_count": 130,
   "metadata": {},
   "outputs": [
    {
     "data": {
      "text/plain": [
       "['the', 'of', 'and', 'to', 'university']"
      ]
     },
     "execution_count": 130,
     "metadata": {},
     "output_type": "execute_result"
    }
   ],
   "source": [
    "text_file = open(\"../assets/Dict/remove_alien_3.txt\", \"r\",encoding=\"utf-8\")\n",
    "content = text_file.read()\n",
    "dict_thai2vec = content.split(\"\\n\")\n",
    "text_file.close()\n",
    "dict_thai2vec[:5]"
   ]
  },
  {
   "cell_type": "code",
   "execution_count": 131,
   "metadata": {},
   "outputs": [],
   "source": [
    "newmmWB = []\n",
    "attacutWB = []"
   ]
  },
  {
   "cell_type": "code",
   "execution_count": 132,
   "metadata": {},
   "outputs": [],
   "source": [
    "def cumulate_wb(df_news,engine):\n",
    "  all = set()\n",
    "  for i in tqdm(range(1000)):\n",
    "    all = all.union(set(word_break(df_news.iloc[i][columnName],engine)))\n",
    "  mylist = list(all)\n",
    "  mylist = [word for word in mylist if isthai(word,ignore_chars='.()-')]\n",
    "  return mylist"
   ]
  },
  {
   "cell_type": "code",
   "execution_count": 133,
   "metadata": {},
   "outputs": [],
   "source": [
    "def accuracy(df_news,engine,dict_list):\n",
    "  result = cumulate_wb(df_news,engine)\n",
    "  amount = len(result)\n",
    "  inDict = [word for word in result if word in dict_list]\n",
    "  isThai = len(inDict)\n",
    "  print('\\n')\n",
    "  print(f'{engine} accuracy : {(isThai / amount)*100:.3f}%')\n",
    "  return result"
   ]
  },
  {
   "cell_type": "code",
   "execution_count": 134,
   "metadata": {},
   "outputs": [
    {
     "name": "stderr",
     "output_type": "stream",
     "text": [
      "100%|██████████| 1000/1000 [00:09<00:00, 101.16it/s]\n"
     ]
    },
    {
     "name": "stdout",
     "output_type": "stream",
     "text": [
      "\n",
      "\n",
      "newmm accuracy : 82.646%\n"
     ]
    }
   ],
   "source": [
    "newmmWB = accuracy(df,\"newmm\",dict_lexitron)"
   ]
  },
  {
   "cell_type": "code",
   "execution_count": 135,
   "metadata": {},
   "outputs": [
    {
     "data": {
      "text/plain": [
       "15777"
      ]
     },
     "execution_count": 135,
     "metadata": {},
     "output_type": "execute_result"
    }
   ],
   "source": [
    "len(newmmWB)"
   ]
  },
  {
   "cell_type": "code",
   "execution_count": 136,
   "metadata": {},
   "outputs": [
    {
     "name": "stderr",
     "output_type": "stream",
     "text": [
      "100%|██████████| 1000/1000 [01:29<00:00, 11.16it/s]\n"
     ]
    },
    {
     "name": "stdout",
     "output_type": "stream",
     "text": [
      "\n",
      "\n",
      "attacut accuracy : 43.779%\n"
     ]
    }
   ],
   "source": [
    "attacutWB = accuracy(df,\"attacut\",dict_lexitron)"
   ]
  },
  {
   "cell_type": "code",
   "execution_count": 137,
   "metadata": {},
   "outputs": [
    {
     "data": {
      "text/plain": [
       "15448"
      ]
     },
     "execution_count": 137,
     "metadata": {},
     "output_type": "execute_result"
    }
   ],
   "source": [
    "len(attacutWB)"
   ]
  }
 ],
 "metadata": {
  "interpreter": {
   "hash": "b825cfde57f4fe2b066dee46d870faf19522c56f6a6e540eacd30e52a1215036"
  },
  "kernelspec": {
   "display_name": "Python 3.8.5 64-bit ('base': conda)",
   "name": "python3"
  },
  "language_info": {
   "codemirror_mode": {
    "name": "ipython",
    "version": 3
   },
   "file_extension": ".py",
   "mimetype": "text/x-python",
   "name": "python",
   "nbconvert_exporter": "python",
   "pygments_lexer": "ipython3",
   "version": "3.8.5"
  },
  "orig_nbformat": 4
 },
 "nbformat": 4,
 "nbformat_minor": 2
}
