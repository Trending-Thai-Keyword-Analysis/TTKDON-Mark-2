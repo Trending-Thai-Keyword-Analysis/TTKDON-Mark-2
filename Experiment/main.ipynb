{
 "cells": [
  {
   "cell_type": "code",
   "execution_count": 1,
   "metadata": {},
   "outputs": [],
   "source": [
    "import pandas as pd\n",
    "from collections import Counter\n",
    "from alpsmm import *\n",
    "import os, glob\n",
    "import sys\n",
    "sys.path += [\"../LCS_Cython\"]\n",
    "from lcs_method import *\n",
    "\n",
    "from tqdm.auto import tqdm\n",
    "tqdm.pandas()"
   ]
  },
  {
   "cell_type": "code",
   "execution_count": 2,
   "metadata": {},
   "outputs": [],
   "source": [
    "def alpsmmWB(news):\n",
    "    temp = mmcut(str(news),keep_whitespace=False)\n",
    "    return temp"
   ]
  },
  {
   "cell_type": "code",
   "execution_count": 3,
   "metadata": {},
   "outputs": [],
   "source": [
    "def read_stop_word(filename):\n",
    "    text_file = open(f\"../assets/Stop_Word_List/{filename}.txt\", \"r\", encoding='utf-8')\n",
    "    content = text_file.read()\n",
    "    dict_list = content.split(\"\\n\")\n",
    "    text_file.close()\n",
    "    return dict_list"
   ]
  },
  {
   "cell_type": "code",
   "execution_count": 4,
   "metadata": {},
   "outputs": [],
   "source": [
    "alpsmm_stopword = read_stop_word(\"alpsmm_stopword_m10_th31\")"
   ]
  },
  {
   "cell_type": "code",
   "execution_count": 4,
   "metadata": {},
   "outputs": [],
   "source": [
    "def word_break(df):\n",
    "    l = len(df)\n",
    "\n",
    "    list_column = df.columns.values.tolist()\n",
    "    column_name = list_column[1]\n",
    "\n",
    "    alpsmm_WB = []\n",
    "\n",
    "    for i in tqdm(range(l)):\n",
    "        wb_list = alpsmmWB(df.iloc[i][column_name])\n",
    "        remove_sw = [word for word in wb_list  if word not in alpsmm_stopword]\n",
    "        alpsmm_WB.append(remove_sw)\n",
    "\n",
    "    return alpsmm_WB"
   ]
  },
  {
   "cell_type": "code",
   "execution_count": 5,
   "metadata": {},
   "outputs": [],
   "source": [
    "def LCS(alpsmm_list):\n",
    "    l = len(alpsmm_list)\n",
    "    lcs_alpsmm = []\n",
    "    for i in tqdm(range(l-1)):\n",
    "        w1_alpsmm = alpsmm_list[i]\n",
    "        len_w1_alpsmm = len(w1_alpsmm)\n",
    "        for j in range(i+1,l):\n",
    "            w2_alpsmm = alpsmm_list[j]\n",
    "            len_w2_alpsmm = len(w2_alpsmm)\n",
    "            lcs_alpsmm_list,maxl_alpsmm = [],0\n",
    "            if i != j:\n",
    "                lcs_alpsmm_list,maxl_alpsmm = lcs_algo(w1_alpsmm,w2_alpsmm,len_w1_alpsmm,len_w2_alpsmm)\n",
    "                if lcs_alpsmm_list != []:\n",
    "                    lcs_alpsmm.extend(lcs_alpsmm_list)\n",
    "\n",
    "    lcs_alpsmm_counter = Counter(lcs_alpsmm)\n",
    "    return lcs_alpsmm_counter"
   ]
  },
  {
   "cell_type": "code",
   "execution_count": 6,
   "metadata": {},
   "outputs": [],
   "source": [
    "def LCS_result(data):\n",
    "    df_result = pd.DataFrame(data.items(), columns=['LCS', 'match'])\n",
    "    df_result['total_match'] = df_result['match'].sum()\n",
    "    df_result.sort_values(['match'], ascending=False, inplace=True, ignore_index=True)\n",
    "    return df_result"
   ]
  },
  {
   "cell_type": "code",
   "execution_count": 7,
   "metadata": {},
   "outputs": [],
   "source": [
    "abs_path = os.path.abspath(r'..\\assets\\Split_Date')\n",
    "os.chdir(abs_path)"
   ]
  },
  {
   "cell_type": "code",
   "execution_count": 8,
   "metadata": {},
   "outputs": [
    {
     "ename": "FileNotFoundError",
     "evalue": "[Errno 2] No such file or directory: '../assets/Stop_Word_List/alpsmm_stopword_m09_th30.txt'",
     "output_type": "error",
     "traceback": [
      "\u001b[1;31m---------------------------------------------------------------------------\u001b[0m",
      "\u001b[1;31mFileNotFoundError\u001b[0m                         Traceback (most recent call last)",
      "\u001b[1;32m~\\AppData\\Local\\Temp/ipykernel_13632/3534524645.py\u001b[0m in \u001b[0;36m<module>\u001b[1;34m\u001b[0m\n\u001b[1;32m----> 1\u001b[1;33m \u001b[0malpsmm_stopword\u001b[0m \u001b[1;33m=\u001b[0m \u001b[0mread_stop_word\u001b[0m\u001b[1;33m(\u001b[0m\u001b[1;34m\"alpsmm_stopword_m09_th30\"\u001b[0m\u001b[1;33m)\u001b[0m\u001b[1;33m\u001b[0m\u001b[1;33m\u001b[0m\u001b[0m\n\u001b[0m\u001b[0;32m      2\u001b[0m \u001b[1;33m\u001b[0m\u001b[0m\n\u001b[0;32m      3\u001b[0m \u001b[1;32mfor\u001b[0m \u001b[0mfile\u001b[0m \u001b[1;32min\u001b[0m \u001b[0mglob\u001b[0m\u001b[1;33m.\u001b[0m\u001b[0mglob\u001b[0m\u001b[1;33m(\u001b[0m\u001b[1;34mf\"2021_10_*\"\u001b[0m\u001b[1;33m)\u001b[0m\u001b[1;33m:\u001b[0m\u001b[1;33m\u001b[0m\u001b[1;33m\u001b[0m\u001b[0m\n\u001b[0;32m      4\u001b[0m     \u001b[0mprint\u001b[0m\u001b[1;33m(\u001b[0m\u001b[1;34mf\"file name : {file}\"\u001b[0m\u001b[1;33m)\u001b[0m\u001b[1;33m\u001b[0m\u001b[1;33m\u001b[0m\u001b[0m\n\u001b[0;32m      5\u001b[0m     \u001b[0mdf\u001b[0m \u001b[1;33m=\u001b[0m \u001b[0mpd\u001b[0m\u001b[1;33m.\u001b[0m\u001b[0mread_csv\u001b[0m\u001b[1;33m(\u001b[0m\u001b[0mfile\u001b[0m\u001b[1;33m)\u001b[0m\u001b[1;33m\u001b[0m\u001b[1;33m\u001b[0m\u001b[0m\n",
      "\u001b[1;32m~\\AppData\\Local\\Temp/ipykernel_13632/3244841578.py\u001b[0m in \u001b[0;36mread_stop_word\u001b[1;34m(filename)\u001b[0m\n\u001b[0;32m      1\u001b[0m \u001b[1;32mdef\u001b[0m \u001b[0mread_stop_word\u001b[0m\u001b[1;33m(\u001b[0m\u001b[0mfilename\u001b[0m\u001b[1;33m)\u001b[0m\u001b[1;33m:\u001b[0m\u001b[1;33m\u001b[0m\u001b[1;33m\u001b[0m\u001b[0m\n\u001b[1;32m----> 2\u001b[1;33m     \u001b[0mtext_file\u001b[0m \u001b[1;33m=\u001b[0m \u001b[0mopen\u001b[0m\u001b[1;33m(\u001b[0m\u001b[1;34mf\"../assets/Stop_Word_List/{filename}.txt\"\u001b[0m\u001b[1;33m,\u001b[0m \u001b[1;34m\"r\"\u001b[0m\u001b[1;33m,\u001b[0m \u001b[0mencoding\u001b[0m\u001b[1;33m=\u001b[0m\u001b[1;34m'utf-8'\u001b[0m\u001b[1;33m)\u001b[0m\u001b[1;33m\u001b[0m\u001b[1;33m\u001b[0m\u001b[0m\n\u001b[0m\u001b[0;32m      3\u001b[0m     \u001b[0mcontent\u001b[0m \u001b[1;33m=\u001b[0m \u001b[0mtext_file\u001b[0m\u001b[1;33m.\u001b[0m\u001b[0mread\u001b[0m\u001b[1;33m(\u001b[0m\u001b[1;33m)\u001b[0m\u001b[1;33m\u001b[0m\u001b[1;33m\u001b[0m\u001b[0m\n\u001b[0;32m      4\u001b[0m     \u001b[0mdict_list\u001b[0m \u001b[1;33m=\u001b[0m \u001b[0mcontent\u001b[0m\u001b[1;33m.\u001b[0m\u001b[0msplit\u001b[0m\u001b[1;33m(\u001b[0m\u001b[1;34m\"\\n\"\u001b[0m\u001b[1;33m)\u001b[0m\u001b[1;33m\u001b[0m\u001b[1;33m\u001b[0m\u001b[0m\n\u001b[0;32m      5\u001b[0m     \u001b[0mtext_file\u001b[0m\u001b[1;33m.\u001b[0m\u001b[0mclose\u001b[0m\u001b[1;33m(\u001b[0m\u001b[1;33m)\u001b[0m\u001b[1;33m\u001b[0m\u001b[1;33m\u001b[0m\u001b[0m\n",
      "\u001b[1;31mFileNotFoundError\u001b[0m: [Errno 2] No such file or directory: '../assets/Stop_Word_List/alpsmm_stopword_m09_th30.txt'"
     ]
    }
   ],
   "source": [
    "alpsmm_stopword = read_stop_word(\"alpsmm_stopword_m09_th30\")\n",
    "\n",
    "for file in glob.glob(f\"2021_10_*\"):\n",
    "    print(f\"file name : {file}\")\n",
    "    df = pd.read_csv(file)\n",
    "    alpsmm_WB = word_break(df)\n",
    "\n",
    "    counter = LCS(alpsmm_WB)\n",
    "\n",
    "    result_alpsmm = LCS_result(counter)\n",
    "\n",
    "    result_alpsmm.to_csv(f\"../Result/alpsmm/{file}\",index = False)"
   ]
  },
  {
   "cell_type": "code",
   "execution_count": 30,
   "metadata": {},
   "outputs": [
    {
     "data": {
      "text/html": [
       "<div>\n",
       "<style scoped>\n",
       "    .dataframe tbody tr th:only-of-type {\n",
       "        vertical-align: middle;\n",
       "    }\n",
       "\n",
       "    .dataframe tbody tr th {\n",
       "        vertical-align: top;\n",
       "    }\n",
       "\n",
       "    .dataframe thead th {\n",
       "        text-align: right;\n",
       "    }\n",
       "</style>\n",
       "<table border=\"1\" class=\"dataframe\">\n",
       "  <thead>\n",
       "    <tr style=\"text-align: right;\">\n",
       "      <th></th>\n",
       "      <th>LCS</th>\n",
       "      <th>match</th>\n",
       "      <th>total_match</th>\n",
       "    </tr>\n",
       "  </thead>\n",
       "  <tbody>\n",
       "    <tr>\n",
       "      <th>0</th>\n",
       "      <td>ถก1.1.529แอฟริกาใต้กลายพันธุ์</td>\n",
       "      <td>34</td>\n",
       "      <td>549</td>\n",
       "    </tr>\n",
       "    <tr>\n",
       "      <th>1</th>\n",
       "      <td>1.1.529แอฟริกาใต้กลายพันธุ์</td>\n",
       "      <td>18</td>\n",
       "      <td>549</td>\n",
       "    </tr>\n",
       "    <tr>\n",
       "      <th>2</th>\n",
       "      <td>แอฟริกาใต้บอตสวานาฮ่องกง</td>\n",
       "      <td>12</td>\n",
       "      <td>549</td>\n",
       "    </tr>\n",
       "    <tr>\n",
       "      <th>3</th>\n",
       "      <td>เสี่ยงภัยชาวเรือเดินเรือ</td>\n",
       "      <td>10</td>\n",
       "      <td>549</td>\n",
       "    </tr>\n",
       "    <tr>\n",
       "      <th>4</th>\n",
       "      <td>กองพลทหารราบสุรสีห์</td>\n",
       "      <td>7</td>\n",
       "      <td>549</td>\n",
       "    </tr>\n",
       "    <tr>\n",
       "      <th>5</th>\n",
       "      <td>แอฟริกาใต้1.1.529การกลายพันธุ์</td>\n",
       "      <td>7</td>\n",
       "      <td>549</td>\n",
       "    </tr>\n",
       "    <tr>\n",
       "      <th>6</th>\n",
       "      <td>แหวกอกบรา</td>\n",
       "      <td>6</td>\n",
       "      <td>549</td>\n",
       "    </tr>\n",
       "    <tr>\n",
       "      <th>7</th>\n",
       "      <td>การกลายพันธุ์หนามspikeprotein</td>\n",
       "      <td>6</td>\n",
       "      <td>549</td>\n",
       "    </tr>\n",
       "    <tr>\n",
       "      <th>8</th>\n",
       "      <td>นางงามช่างภาพอนาจาร</td>\n",
       "      <td>6</td>\n",
       "      <td>549</td>\n",
       "    </tr>\n",
       "    <tr>\n",
       "      <th>9</th>\n",
       "      <td>เสี่ยงภัยชาวเรือเดินเรือhttp://www.tmd.go.th23...</td>\n",
       "      <td>6</td>\n",
       "      <td>549</td>\n",
       "    </tr>\n",
       "  </tbody>\n",
       "</table>\n",
       "</div>"
      ],
      "text/plain": [
       "                                                 LCS  match  total_match\n",
       "0                      ถก1.1.529แอฟริกาใต้กลายพันธุ์     34          549\n",
       "1                        1.1.529แอฟริกาใต้กลายพันธุ์     18          549\n",
       "2                           แอฟริกาใต้บอตสวานาฮ่องกง     12          549\n",
       "3                           เสี่ยงภัยชาวเรือเดินเรือ     10          549\n",
       "4                                กองพลทหารราบสุรสีห์      7          549\n",
       "5                     แอฟริกาใต้1.1.529การกลายพันธุ์      7          549\n",
       "6                                          แหวกอกบรา      6          549\n",
       "7                      การกลายพันธุ์หนามspikeprotein      6          549\n",
       "8                                นางงามช่างภาพอนาจาร      6          549\n",
       "9  เสี่ยงภัยชาวเรือเดินเรือhttp://www.tmd.go.th23...      6          549"
      ]
     },
     "execution_count": 30,
     "metadata": {},
     "output_type": "execute_result"
    }
   ],
   "source": [
    "df = pd.read_csv(r\"E:\\work\\virtualenv\\project-infoquest\\TTKDON-Mark-2\\assets\\Result\\alpsmm\\2021_11_26.csv\")\n",
    "df[:10]"
   ]
  }
 ],
 "metadata": {
  "interpreter": {
   "hash": "abc7d9ddccd1321d6e8bc5b8b660360a59885033ee4dadfced3ec32b2feb0446"
  },
  "kernelspec": {
   "display_name": "Python 3.8.10 64-bit (windows store)",
   "language": "python",
   "name": "python3"
  },
  "language_info": {
   "codemirror_mode": {
    "name": "ipython",
    "version": 3
   },
   "file_extension": ".py",
   "mimetype": "text/x-python",
   "name": "python",
   "nbconvert_exporter": "python",
   "pygments_lexer": "ipython3",
   "version": "3.8.5"
  },
  "orig_nbformat": 4
 },
 "nbformat": 4,
 "nbformat_minor": 2
}
